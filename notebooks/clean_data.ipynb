{
 "cells": [
  {
   "cell_type": "markdown",
   "metadata": {},
   "source": [
    "# Clean data\n",
    "\n",
    "This code imports the data csv file and does the following:\n",
    "1. Extracts only article text and label columns\n",
    "2. Removes duplicate articles\n",
    "3. Makes an index of non-english articles and removes them\n",
    "4. Replaces all special characters present in the articles which space\n",
    "5. Saves the clean data as df_article_text.csv in data folder"
   ]
  },
  {
   "cell_type": "code",
   "execution_count": 1,
   "metadata": {},
   "outputs": [],
   "source": [
    "import pandas as pd\n",
    "import matplotlib.pyplot as plt\n",
    "from langdetect import detect"
   ]
  },
  {
   "cell_type": "code",
   "execution_count": 2,
   "metadata": {},
   "outputs": [
    {
     "name": "stdout",
     "output_type": "stream",
     "text": [
      "Requirement already satisfied: langdetect in /Users/rashmigupta/anaconda3/lib/python3.7/site-packages (1.0.8)\n",
      "Requirement already satisfied: six in /Users/rashmigupta/anaconda3/lib/python3.7/site-packages (from langdetect) (1.12.0)\n"
     ]
    }
   ],
   "source": [
    "# Needs to be run once in the beginning\n",
    "!pip install langdetect"
   ]
  },
  {
   "cell_type": "code",
   "execution_count": 3,
   "metadata": {},
   "outputs": [],
   "source": [
    "# Read in the csv files\n",
    "df_pos = pd.read_csv('data/positive_articles.csv', sep=',')\n",
    "df_neg = pd.read_csv('data/negative_articles.csv', sep=',')\n",
    "\n",
    "# Merge positive and negative data into one data frame\n",
    "df = pd.concat([df_pos, df_neg], ignore_index=True)\n",
    "\n",
    "# Subsetting label and article_text data\n",
    "columns = ['label', 'article_text']\n",
    "df_article_text = df[columns]"
   ]
  },
  {
   "cell_type": "code",
   "execution_count": 4,
   "metadata": {},
   "outputs": [
    {
     "data": {
      "text/plain": [
       "(12859, 2)"
      ]
     },
     "execution_count": 4,
     "metadata": {},
     "output_type": "execute_result"
    }
   ],
   "source": [
    "df_article_text.shape"
   ]
  },
  {
   "cell_type": "markdown",
   "metadata": {},
   "source": [
    "Problems with the data:\n",
    "\n",
    "1. Some articles non-english\n",
    "2. '\\n', 'â' characters present\n",
    "3. Duplicate article_text- different urls but article is same.\n",
    "4. Name of the author of the article present"
   ]
  },
  {
   "cell_type": "code",
   "execution_count": 5,
   "metadata": {},
   "outputs": [
    {
     "name": "stderr",
     "output_type": "stream",
     "text": [
      "/Users/rashmigupta/anaconda3/lib/python3.7/site-packages/ipykernel_launcher.py:2: SettingWithCopyWarning: \n",
      "A value is trying to be set on a copy of a slice from a DataFrame\n",
      "\n",
      "See the caveats in the documentation: http://pandas.pydata.org/pandas-docs/stable/indexing.html#indexing-view-versus-copy\n",
      "  \n",
      "/Users/rashmigupta/anaconda3/lib/python3.7/site-packages/pandas/core/frame.py:3940: SettingWithCopyWarning: \n",
      "A value is trying to be set on a copy of a slice from a DataFrame\n",
      "\n",
      "See the caveats in the documentation: http://pandas.pydata.org/pandas-docs/stable/indexing.html#indexing-view-versus-copy\n",
      "  errors=errors)\n",
      "/Users/rashmigupta/anaconda3/lib/python3.7/site-packages/ipykernel_launcher.py:18: SettingWithCopyWarning: \n",
      "A value is trying to be set on a copy of a slice from a DataFrame.\n",
      "Try using .loc[row_indexer,col_indexer] = value instead\n",
      "\n",
      "See the caveats in the documentation: http://pandas.pydata.org/pandas-docs/stable/indexing.html#indexing-view-versus-copy\n"
     ]
    }
   ],
   "source": [
    "# Removing duplicates in article_text the data\n",
    "df_article_text.drop_duplicates(keep='first', inplace=True)\n",
    "\n",
    "# Index of non-english rows\n",
    "non_en_index = []\n",
    "\n",
    "for index, row in df_article_text.iterrows():\n",
    "    # Explicitly converting article_text to string because a few of the rows were being captured as non-strings\n",
    "    lang = detect(str(row['article_text']))\n",
    "    if lang != 'en':\n",
    "        non_en_index.append(index)\n",
    "\n",
    "# Removing non-english articles        \n",
    "df_article_text.drop(non_en_index, inplace= True)\n",
    "\n",
    "# Remove the special characters\n",
    "df_article_text['article_text'] = [article.replace('\\n', ' ') for article in df_article_text.article_text]\n",
    "df_article_text['article_text'] = [article.replace('[^a-zA-Z\\d\\s:]', ' ') for article in df_article_text.article_text]"
   ]
  },
  {
   "cell_type": "code",
   "execution_count": 6,
   "metadata": {},
   "outputs": [],
   "source": [
    "# Write the clean data into a new csv\n",
    "df_article_text.to_csv('data/df_article_text.csv', sep=',', index=False)"
   ]
  },
  {
   "cell_type": "code",
   "execution_count": null,
   "metadata": {},
   "outputs": [],
   "source": []
  }
 ],
 "metadata": {
  "kernelspec": {
   "display_name": "Python 3",
   "language": "python",
   "name": "python3"
  },
  "language_info": {
   "codemirror_mode": {
    "name": "ipython",
    "version": 3
   },
   "file_extension": ".py",
   "mimetype": "text/x-python",
   "name": "python",
   "nbconvert_exporter": "python",
   "pygments_lexer": "ipython3",
   "version": "3.7.3"
  }
 },
 "nbformat": 4,
 "nbformat_minor": 2
}
