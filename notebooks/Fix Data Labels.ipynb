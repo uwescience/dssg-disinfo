{
 "cells": [
  {
   "cell_type": "code",
   "execution_count": 3,
   "metadata": {},
   "outputs": [],
   "source": [
    "import pandas as pd\n",
    "path = '' # put your data path here"
   ]
  },
  {
   "cell_type": "code",
   "execution_count": 5,
   "metadata": {},
   "outputs": [],
   "source": [
    "manually_labeled_pks = [int(line.strip()) for line in open(path+'manually_labeled_pks.txt', 'r').readlines()]\n",
    "negative_pks = [int(line.strip()) for line in open('negative_examples_addl.txt', 'r').readlines()]\n",
    "positive_pks = [int(line.strip()) for line in open('positive_examples_addl.txt', 'r').readlines()]"
   ]
  },
  {
   "cell_type": "code",
   "execution_count": 11,
   "metadata": {},
   "outputs": [],
   "source": [
    "df_negative = pd.read_csv(path+'negative_articles_v3.csv')\n",
    "df_positive = pd.read_csv(path+'positive_articles_v3.csv')\n",
    "df = pd.concat([df_negative, df_positive])"
   ]
  },
  {
   "cell_type": "code",
   "execution_count": 17,
   "metadata": {},
   "outputs": [],
   "source": [
    "df = pd.concat([df_negative, df_positive])\n",
    "df.loc[df.article_pk.isin(positive_pks) == True, 'label'] = 1\n",
    "df.loc[df.article_pk.isin(negative_pks) == True, 'label'] = 0"
   ]
  },
  {
   "cell_type": "code",
   "execution_count": 18,
   "metadata": {},
   "outputs": [
    {
     "data": {
      "text/plain": [
       "0    20172\n",
       "1    14278\n",
       "Name: label, dtype: int64"
      ]
     },
     "execution_count": 18,
     "metadata": {},
     "output_type": "execute_result"
    }
   ],
   "source": [
    "df['label'].value_counts()"
   ]
  },
  {
   "cell_type": "code",
   "execution_count": 19,
   "metadata": {},
   "outputs": [],
   "source": [
    "df[df['label']==0].to_csv(path+'negative_articles_v3.csv', index=False)\n",
    "df[df['label']==1].to_csv(path+'positive_articles_v3.csv', index=False)"
   ]
  },
  {
   "cell_type": "code",
   "execution_count": null,
   "metadata": {},
   "outputs": [],
   "source": []
  }
 ],
 "metadata": {
  "kernelspec": {
   "display_name": "Python 3",
   "language": "python",
   "name": "python3"
  },
  "language_info": {
   "codemirror_mode": {
    "name": "ipython",
    "version": 3
   },
   "file_extension": ".py",
   "mimetype": "text/x-python",
   "name": "python",
   "nbconvert_exporter": "python",
   "pygments_lexer": "ipython3",
   "version": "3.7.4"
  }
 },
 "nbformat": 4,
 "nbformat_minor": 2
}
