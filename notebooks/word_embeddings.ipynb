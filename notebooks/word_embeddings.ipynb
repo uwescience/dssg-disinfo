{
 "cells": [
  {
   "cell_type": "code",
   "execution_count": 3,
   "metadata": {},
   "outputs": [],
   "source": [
    "import tensorflow as tf\n",
    "import pandas as pd\n",
    "import matplotlib.pyplot as plt\n",
    "%matplotlib inline\n",
    "from sklearn.feature_extraction import text\n",
    "from sklearn.feature_extraction.text import CountVectorizer\n",
    "from sklearn.model_selection import train_test_split\n",
    "import numpy as np\n",
    "\n",
    "df = pd.read_csv('data/df_article_text.csv', sep=',')"
   ]
  },
  {
   "cell_type": "code",
   "execution_count": 2,
   "metadata": {},
   "outputs": [
    {
     "name": "stdout",
     "output_type": "stream",
     "text": [
      "2.1.0\n"
     ]
    }
   ],
   "source": [
    "print(tf.__version__)"
   ]
  },
  {
   "cell_type": "code",
   "execution_count": 41,
   "metadata": {},
   "outputs": [],
   "source": [
    "X = df['article_text']\n",
    "y = df['label']\n",
    "X_train, X_test, y_train, y_test = train_test_split(X, y, random_state=42)"
   ]
  },
  {
   "cell_type": "code",
   "execution_count": 42,
   "metadata": {},
   "outputs": [],
   "source": [
    "X_train=X_train.reset_index(drop=True)"
   ]
  },
  {
   "cell_type": "code",
   "execution_count": 43,
   "metadata": {},
   "outputs": [
    {
     "data": {
      "text/plain": [
       "0       The CIA is the second Western intelligence age...\n",
       "1       President Trump's recent decision to leave the...\n",
       "2       A Michigan woman shocked the Internets on Satu...\n",
       "3       UK Ministry of Defense 2010: “Choosing to be d...\n",
       "4       Michael Snyder  Economic Collapse  May 7, 2020...\n",
       "5         Edward Meyer School victory garden on First ...\n",
       "6       COVID Ethics: It’s Immoral to Confine Innocent...\n",
       "7       Dave Hodges and JR Nyquist warn of China’s pla...\n",
       "8       Representational image | Photo Credit: Twitter...\n",
       "9       California Gov. Gavin Newsom says the state wi...\n",
       "10      Hundreds of thousands of Indian contract worke...\n",
       "11      Good Wednesday morning.  Here is what’s on the...\n",
       "12      This post was originally published on this sit...\n",
       "13      This post was originally published on this sit...\n",
       "14      India backed calls this week for an independen...\n",
       "15      Summary:  Hong Kong reports no new local coron...\n",
       "16      All across the U.S., Democrats have been relea...\n",
       "17      The “Global Citizen” Lady Gaga “One World At H...\n",
       "18      For indispensable reporting on the coronavirus...\n",
       "19      Ryanair aircrafts are parked on the tarmac bef...\n",
       "20      (Natural News) While YouTube, Facebook, Google...\n",
       "21      By MassPrivateI  The Co-Chair of AmeriCorps an...\n",
       "22      Here’s Who’s Still Waiting for Stimulus Money ...\n",
       "23      'You sir, you look like an intelligent man, a ...\n",
       "24      © CDC    An estimated 80,000 Americans died of...\n",
       "25      It’s not often where we cover a ‘back and fort...\n",
       "26      Maryland Gov. Larry Hogan talks to reporters d...\n",
       "27      A federal judge nominated to the nation’s seco...\n",
       "28      Aangirfan Friday, 15 May 2020 CORONAVIRUS CRIM...\n",
       "29      During a Wednesday press conference, Republica...\n",
       "                              ...                        \n",
       "6498    What do you see in the picture above? Is it th...\n",
       "6499    Because governments are obeying a model. They'...\n",
       "6500    Mutated coronavirus strain in India could kill...\n",
       "6501    New filings for unemployment claims totaled ju...\n",
       "6502    In the past, Daniel Pipes has been scrupulousl...\n",
       "6503    Washington (AFP) – US Democrats on Tuesday unv...\n",
       "6504    Populist conservative author and columnist Pat...\n",
       "6505    From Conservapedia  A conservative is someone ...\n",
       "6506    It's becoming clear that the most important pa...\n",
       "6507    Michelle Pedrotti and Ryan Trott with their da...\n",
       "6508    Authored by Alasdair Macleod via GoldMoney.com...\n",
       "6509    “There are no libertarians in an epidemic” cro...\n",
       "6510    America needs better “experts.”  The current c...\n",
       "6511    This April 16th, Dr. Luc Montagnier became a h...\n",
       "6512    skip to main | skip to sidebar Conspiraloonery...\n",
       "6513    From Conservapedia  Updated daily Covid-19 cas...\n",
       "6514    This post was originally published on this sit...\n",
       "6515    This post was originally published on this sit...\n",
       "6516    Representational Image | Photo Credit: ANI  Is...\n",
       "6517    It could be seen as a fatal blow to Boris John...\n",
       "6518    U.S. professor of history at John Hopkins Univ...\n",
       "6519    STORY AT-A-GLANCE  The video, Plandemic , with...\n",
       "6520    Leftists still live on the muscle-memory of th...\n",
       "6521    Aangirfan Showing posts with label Philippines...\n",
       "6522    The Great Smoky Mountains National Park is set...\n",
       "6523    One thing we know for sure is that claims from...\n",
       "6524    The Great Orange County Rebellion against Cali...\n",
       "6525    From Conservapedia  For a more detailed treatm...\n",
       "6526    As the coronavirus pandemic continues to sprea...\n",
       "6527    [html]  Photo credit: Federal Ministry of Euro...\n",
       "Name: article_text, Length: 6528, dtype: object"
      ]
     },
     "execution_count": 43,
     "metadata": {},
     "output_type": "execute_result"
    }
   ],
   "source": [
    "X_train"
   ]
  },
  {
   "cell_type": "code",
   "execution_count": 62,
   "metadata": {},
   "outputs": [],
   "source": [
    "vocab_size = 9000\n",
    "embedding_dim = 16\n",
    "max_length = 120\n",
    "trunc_type = 'post'\n",
    "oov_tok = '<OOV>'\n",
    "\n",
    "from tensorflow.keras.preprocessing.text import Tokenizer\n",
    "from tensorflow.keras.preprocessing.sequence import pad_sequences"
   ]
  },
  {
   "cell_type": "code",
   "execution_count": 63,
   "metadata": {},
   "outputs": [],
   "source": [
    "tokenizer = Tokenizer(num_words = vocab_size, oov_token = oov_tok)\n",
    "tokenizer.fit_on_texts(X_train)"
   ]
  },
  {
   "cell_type": "code",
   "execution_count": 64,
   "metadata": {},
   "outputs": [],
   "source": [
    "word_index = tokenizer.word_index"
   ]
  },
  {
   "cell_type": "code",
   "execution_count": 65,
   "metadata": {},
   "outputs": [],
   "source": [
    "sequences = tokenizer.texts_to_sequences(X_train)"
   ]
  },
  {
   "cell_type": "code",
   "execution_count": 66,
   "metadata": {},
   "outputs": [],
   "source": [
    "padded = pad_sequences(sequences, maxlen = max_length, truncating=trunc_type)"
   ]
  },
  {
   "cell_type": "code",
   "execution_count": 67,
   "metadata": {},
   "outputs": [],
   "source": [
    "testing_sequences = tokenizer.texts_to_sequences(X_test)\n",
    "testing_padded = pad_sequences(testing_sequences, maxlen=max_length, truncating=trunc_type)"
   ]
  },
  {
   "cell_type": "code",
   "execution_count": 68,
   "metadata": {
    "collapsed": true
   },
   "outputs": [
    {
     "name": "stdout",
     "output_type": "stream",
     "text": [
      "uk ministry of defense 2010 <OOV> to be <OOV> may be considered suspicious ” <OOV> general robert s <OOV> said in a 2019 interview that humans will not be able to opt out of the <OOV> 5g system 12 years ago old thinker news asked the question <OOV> dissidents potentially be <OOV> <OOV> and denied access to <OOV> payment systems and transit systems as if they were a banned web page in the <OOV> of <OOV> a <OOV> reality has emerged since this report was published the infrastructure for this system of control has been built the 5g network will enable the rollout of a vast command and control grid that will monitor people places and things <OOV> in real\n",
      "UK Ministry of Defense 2010: “Choosing to be disconnected may be considered suspicious.”  Brigadier General Robert S. Spalding said in a 2019 interview that humans will not be able to opt out of the pervasive 5G system:  12 years ago Old-Thinker News asked the question: “Could dissidents potentially be electronically blacklisted and denied access to cashless payment systems and transit systems as if they were a banned web page in the ‘internet of things‘”?  A sobering reality has emerged since this report was published. The infrastructure for this system of control has been built.  The 5G network will enable the rollout of a vast command and control grid that will monitor people, places and things wirelessly in real-time. Humans will not have the ability to opt out and live a normal life.  The Internet of Things (IoT) infrastructure will be organized by the 5G network. Trillions of objects made “smart” by embedded computer chips will be “alive” in the grid.  In 2012, CIA Director David Petraeus said that the technology will be “transformational… particularly to their effect on clandestine tradecraft“. Petraeus explained:  “Items of interest will be located, identified, monitored, and remotely controlled through technologies such as radio-frequency identification, sensor networks, tiny embedded servers, and energy harvesters – all connected to the next-generation internet using abundant, low-cost, and high-power computing.”  The UK Ministry of Defense said in a 2010 report that a vast surveillance network would overtake the planet:  “The virtual networks will consist of communications servers linking individuals and objects, many of which will be networked through individual Internet Protocol (IP) addresses.”  Ultimately, as stated in the paper, it may become difficult to “turn the outside world off,” and “…Even amongst those who make an explicit life-style choice to remain detached, choosing to be disconnected may be considered suspicious behaviour.”  As Coronavirus accelerates trends toward automation through robotics and artificial intelligence, rapid adoption of 5G can be expected as well.  The monumental shift to this anti-human system will not happen without resistance.    Most people don’t realize that as much as 90% of the medicine they use comes from China!  Get what you and your family need with today’s top-selling products now!\n"
     ]
    }
   ],
   "source": [
    "reverse_word_index = dict([(value, key) for (key, value) in word_index.items()])\n",
    "\n",
    "def decode_review(text):\n",
    "    return ' '.join([reverse_word_index.get(i, '?') for i in text])\n",
    "\n",
    "print(decode_review(padded[3]))\n",
    "print(X_train[3])"
   ]
  },
  {
   "cell_type": "code",
   "execution_count": 50,
   "metadata": {
    "collapsed": true
   },
   "outputs": [
    {
     "name": "stdout",
     "output_type": "stream",
     "text": [
      "Model: \"sequential\"\n",
      "_________________________________________________________________\n",
      "Layer (type)                 Output Shape              Param #   \n",
      "=================================================================\n",
      "embedding (Embedding)        (None, 120, 16)           160000    \n",
      "_________________________________________________________________\n",
      "flatten (Flatten)            (None, 1920)              0         \n",
      "_________________________________________________________________\n",
      "dense (Dense)                (None, 6)                 11526     \n",
      "_________________________________________________________________\n",
      "dense_1 (Dense)              (None, 1)                 7         \n",
      "=================================================================\n",
      "Total params: 171,533\n",
      "Trainable params: 171,533\n",
      "Non-trainable params: 0\n",
      "_________________________________________________________________\n"
     ]
    }
   ],
   "source": [
    "model = tf.keras.Sequential([\n",
    "    tf.keras.layers.Embedding(vocab_size, embedding_dim, input_length=max_length),\n",
    "    tf.keras.layers.Flatten(),\n",
    "    tf.keras.layers.Dense(6, activation='relu'),\n",
    "    tf.keras.layers.Dense(1, activation='sigmoid')\n",
    "])\n",
    "model.compile(loss='binary_crossentropy',optimizer='adam',metrics=['accuracy'])\n",
    "model.summary()"
   ]
  },
  {
   "cell_type": "code",
   "execution_count": 51,
   "metadata": {
    "collapsed": true
   },
   "outputs": [
    {
     "name": "stdout",
     "output_type": "stream",
     "text": [
      "Train on 6528 samples, validate on 2176 samples\n",
      "Epoch 1/10\n",
      "6528/6528 [==============================] - 1s 228us/sample - loss: 0.2226 - accuracy: 0.9501 - val_loss: 0.1220 - val_accuracy: 0.9701\n",
      "Epoch 2/10\n",
      "6528/6528 [==============================] - 1s 131us/sample - loss: 0.0988 - accuracy: 0.9706 - val_loss: 0.1023 - val_accuracy: 0.9706\n",
      "Epoch 3/10\n",
      "6528/6528 [==============================] - 1s 130us/sample - loss: 0.0519 - accuracy: 0.9789 - val_loss: 0.0861 - val_accuracy: 0.9743\n",
      "Epoch 4/10\n",
      "6528/6528 [==============================] - 1s 136us/sample - loss: 0.0100 - accuracy: 0.9983 - val_loss: 0.0991 - val_accuracy: 0.9761\n",
      "Epoch 5/10\n",
      "6528/6528 [==============================] - 2s 257us/sample - loss: 0.0023 - accuracy: 0.9997 - val_loss: 0.1237 - val_accuracy: 0.9733\n",
      "Epoch 6/10\n",
      "6528/6528 [==============================] - 2s 274us/sample - loss: 0.0013 - accuracy: 0.9998 - val_loss: 0.1346 - val_accuracy: 0.9743\n",
      "Epoch 7/10\n",
      "6528/6528 [==============================] - 2s 275us/sample - loss: 6.2853e-04 - accuracy: 0.9998 - val_loss: 0.1395 - val_accuracy: 0.9743\n",
      "Epoch 8/10\n",
      "6528/6528 [==============================] - 2s 282us/sample - loss: 3.9371e-04 - accuracy: 1.0000 - val_loss: 0.1516 - val_accuracy: 0.9743\n",
      "Epoch 9/10\n",
      "6528/6528 [==============================] - 2s 274us/sample - loss: 2.4051e-04 - accuracy: 1.0000 - val_loss: 0.1545 - val_accuracy: 0.9743\n",
      "Epoch 10/10\n",
      "6528/6528 [==============================] - 2s 272us/sample - loss: 1.7702e-04 - accuracy: 1.0000 - val_loss: 0.1596 - val_accuracy: 0.9743\n"
     ]
    },
    {
     "data": {
      "text/plain": [
       "<tensorflow.python.keras.callbacks.History at 0x7fdb7c3db4e0>"
      ]
     },
     "execution_count": 51,
     "metadata": {},
     "output_type": "execute_result"
    }
   ],
   "source": [
    "num_epochs = 10\n",
    "model.fit(padded, y_train, epochs=num_epochs, validation_data=(testing_padded, y_test))"
   ]
  },
  {
   "cell_type": "code",
   "execution_count": 52,
   "metadata": {},
   "outputs": [
    {
     "name": "stdout",
     "output_type": "stream",
     "text": [
      "(10000, 16)\n"
     ]
    }
   ],
   "source": [
    "e = model.layers[0]\n",
    "weights = e.get_weights()[0]\n",
    "print(weights.shape) # shape: (vocab_size, embedding_dim)"
   ]
  },
  {
   "cell_type": "code",
   "execution_count": 53,
   "metadata": {},
   "outputs": [],
   "source": [
    "import io\n",
    "\n",
    "out_v = io.open('vecs.tsv', 'w', encoding='utf-8')\n",
    "out_m = io.open('meta.tsv', 'w', encoding='utf-8')\n",
    "\n",
    "for word_num in range(1, vocab_size):\n",
    "  word = reverse_word_index[word_num]\n",
    "  embeddings = weights[word_num]\n",
    "  out_m.write(word + \"\\n\")\n",
    "  out_v.write('\\t'.join([str(x) for x in embeddings]) + \"\\n\")\n",
    "    \n",
    "out_v.close()\n",
    "out_m.close()"
   ]
  },
  {
   "cell_type": "code",
   "execution_count": 70,
   "metadata": {},
   "outputs": [
    {
     "ename": "AttributeError",
     "evalue": "'dict' object has no attribute 'nrow'",
     "output_type": "error",
     "traceback": [
      "\u001b[0;31m---------------------------------------------------------------------------\u001b[0m",
      "\u001b[0;31mAttributeError\u001b[0m                            Traceback (most recent call last)",
      "\u001b[0;32m<ipython-input-70-ad92a892ef0b>\u001b[0m in \u001b[0;36m<module>\u001b[0;34m\u001b[0m\n\u001b[0;32m----> 1\u001b[0;31m \u001b[0mreverse_word_index\u001b[0m\u001b[0;34m.\u001b[0m\u001b[0mnrow\u001b[0m\u001b[0;34m\u001b[0m\u001b[0;34m\u001b[0m\u001b[0m\n\u001b[0m",
      "\u001b[0;31mAttributeError\u001b[0m: 'dict' object has no attribute 'nrow'"
     ]
    }
   ],
   "source": [
    "reverse_word_index.nrow"
   ]
  },
  {
   "cell_type": "code",
   "execution_count": 75,
   "metadata": {},
   "outputs": [
    {
     "data": {
      "text/plain": [
       "143016"
      ]
     },
     "execution_count": 75,
     "metadata": {},
     "output_type": "execute_result"
    }
   ],
   "source": [
    "len(word_index.keys())"
   ]
  },
  {
   "cell_type": "code",
   "execution_count": 76,
   "metadata": {},
   "outputs": [
    {
     "data": {
      "text/plain": [
       "6528"
      ]
     },
     "execution_count": 76,
     "metadata": {},
     "output_type": "execute_result"
    }
   ],
   "source": [
    "len(X_train)"
   ]
  },
  {
   "cell_type": "code",
   "execution_count": 77,
   "metadata": {},
   "outputs": [
    {
     "data": {
      "text/plain": [
       "6528"
      ]
     },
     "execution_count": 77,
     "metadata": {},
     "output_type": "execute_result"
    }
   ],
   "source": [
    "len(y_train)"
   ]
  },
  {
   "cell_type": "code",
   "execution_count": null,
   "metadata": {},
   "outputs": [],
   "source": []
  }
 ],
 "metadata": {
  "kernelspec": {
   "display_name": "Python 3",
   "language": "python",
   "name": "python3"
  },
  "language_info": {
   "codemirror_mode": {
    "name": "ipython",
    "version": 3
   },
   "file_extension": ".py",
   "mimetype": "text/x-python",
   "name": "python",
   "nbconvert_exporter": "python",
   "pygments_lexer": "ipython3",
   "version": "3.7.3"
  }
 },
 "nbformat": 4,
 "nbformat_minor": 2
}
