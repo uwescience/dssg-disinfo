{
 "cells": [
  {
   "cell_type": "code",
   "execution_count": 335,
   "metadata": {},
   "outputs": [],
   "source": [
    "import numpy as np\n",
    "import pandas as pd\n",
    "\n",
    "import nltk\n",
    "from nltk.corpus import stopwords\n",
    "from nltk.tokenize import word_tokenize\n",
    "from nltk.tokenize import RegexpTokenizer\n",
    "\n",
    "import seaborn as sns\n",
    "import matplotlib.pyplot as plt\n",
    "from scipy import stats\n",
    "\n",
    "from langdetect import detect\n",
    "\n",
    "from collections import Counter"
   ]
  },
  {
   "cell_type": "code",
   "execution_count": 336,
   "metadata": {},
   "outputs": [],
   "source": [
    "neg = pd.read_csv('negative_articles.csv')\n",
    "pos = pd.read_csv('positive_articles.csv')"
   ]
  },
  {
   "cell_type": "code",
   "execution_count": 337,
   "metadata": {},
   "outputs": [
    {
     "data": {
      "text/html": [
       "<div>\n",
       "<style scoped>\n",
       "    .dataframe tbody tr th:only-of-type {\n",
       "        vertical-align: middle;\n",
       "    }\n",
       "\n",
       "    .dataframe tbody tr th {\n",
       "        vertical-align: top;\n",
       "    }\n",
       "\n",
       "    .dataframe thead th {\n",
       "        text-align: right;\n",
       "    }\n",
       "</style>\n",
       "<table border=\"1\" class=\"dataframe\">\n",
       "  <thead>\n",
       "    <tr style=\"text-align: right;\">\n",
       "      <th></th>\n",
       "      <th>article_pk</th>\n",
       "      <th>domain_pk</th>\n",
       "      <th>domain_name</th>\n",
       "      <th>article_url</th>\n",
       "      <th>label</th>\n",
       "      <th>article_headline</th>\n",
       "      <th>article_text</th>\n",
       "    </tr>\n",
       "  </thead>\n",
       "  <tbody>\n",
       "    <tr>\n",
       "      <td>1158</td>\n",
       "      <td>39717630</td>\n",
       "      <td>192</td>\n",
       "      <td>dcclothesline.com</td>\n",
       "      <td>https://www.dcclothesline.com/?p=132721</td>\n",
       "      <td>1</td>\n",
       "      <td>As We Trust Govt on COVID-19, Never Forget Ame...</td>\n",
       "      <td>“They were monsters with human faces, in crisp...</td>\n",
       "    </tr>\n",
       "    <tr>\n",
       "      <td>11956</td>\n",
       "      <td>42269432</td>\n",
       "      <td>37651</td>\n",
       "      <td>https://www.theepochtimes.com</td>\n",
       "      <td>https://www.theepochtimes.com/texas-salon-owne...</td>\n",
       "      <td>1</td>\n",
       "      <td>Texas Salon Owner Jailed for Defying Governor’...</td>\n",
       "      <td>Texas Salon Owner Jailed for Defying Governor’...</td>\n",
       "    </tr>\n",
       "  </tbody>\n",
       "</table>\n",
       "</div>"
      ],
      "text/plain": [
       "       article_pk  domain_pk                    domain_name  \\\n",
       "1158     39717630        192              dcclothesline.com   \n",
       "11956    42269432      37651  https://www.theepochtimes.com   \n",
       "\n",
       "                                             article_url  label  \\\n",
       "1158             https://www.dcclothesline.com/?p=132721      1   \n",
       "11956  https://www.theepochtimes.com/texas-salon-owne...      1   \n",
       "\n",
       "                                        article_headline  \\\n",
       "1158   As We Trust Govt on COVID-19, Never Forget Ame...   \n",
       "11956  Texas Salon Owner Jailed for Defying Governor’...   \n",
       "\n",
       "                                            article_text  \n",
       "1158   “They were monsters with human faces, in crisp...  \n",
       "11956  Texas Salon Owner Jailed for Defying Governor’...  "
      ]
     },
     "execution_count": 337,
     "metadata": {},
     "output_type": "execute_result"
    }
   ],
   "source": [
    "pos.sample(2)"
   ]
  },
  {
   "cell_type": "code",
   "execution_count": 338,
   "metadata": {},
   "outputs": [
    {
     "data": {
      "text/plain": [
       "(12547, 7)"
      ]
     },
     "execution_count": 338,
     "metadata": {},
     "output_type": "execute_result"
    }
   ],
   "source": [
    "# with duplicates\n",
    "pos.shape"
   ]
  },
  {
   "cell_type": "code",
   "execution_count": 339,
   "metadata": {},
   "outputs": [
    {
     "data": {
      "text/plain": [
       "(312, 7)"
      ]
     },
     "execution_count": 339,
     "metadata": {},
     "output_type": "execute_result"
    }
   ],
   "source": [
    "# with duplicates\n",
    "neg.shape"
   ]
  },
  {
   "cell_type": "code",
   "execution_count": 340,
   "metadata": {},
   "outputs": [],
   "source": [
    "# drop duplicates for positive\n",
    "pos.drop_duplicates(subset='article_text', keep='first', inplace=True)"
   ]
  },
  {
   "cell_type": "code",
   "execution_count": 341,
   "metadata": {},
   "outputs": [],
   "source": [
    "neg.drop_duplicates(subset='article_text', keep='first', inplace=True)"
   ]
  },
  {
   "cell_type": "code",
   "execution_count": 342,
   "metadata": {},
   "outputs": [
    {
     "data": {
      "text/html": [
       "<div>\n",
       "<style scoped>\n",
       "    .dataframe tbody tr th:only-of-type {\n",
       "        vertical-align: middle;\n",
       "    }\n",
       "\n",
       "    .dataframe tbody tr th {\n",
       "        vertical-align: top;\n",
       "    }\n",
       "\n",
       "    .dataframe thead th {\n",
       "        text-align: right;\n",
       "    }\n",
       "</style>\n",
       "<table border=\"1\" class=\"dataframe\">\n",
       "  <thead>\n",
       "    <tr style=\"text-align: right;\">\n",
       "      <th></th>\n",
       "      <th>article_pk</th>\n",
       "      <th>domain_pk</th>\n",
       "      <th>domain_name</th>\n",
       "      <th>article_url</th>\n",
       "      <th>label</th>\n",
       "      <th>article_headline</th>\n",
       "      <th>article_text</th>\n",
       "    </tr>\n",
       "  </thead>\n",
       "  <tbody>\n",
       "    <tr>\n",
       "      <td>182</td>\n",
       "      <td>42302300</td>\n",
       "      <td>1594</td>\n",
       "      <td>businessinsider.com</td>\n",
       "      <td>http://nordic.businessinsider.com/us-records-h...</td>\n",
       "      <td>0</td>\n",
       "      <td>The US records its highest daily death toll as...</td>\n",
       "      <td>The US recorded its deadliest day during the c...</td>\n",
       "    </tr>\n",
       "    <tr>\n",
       "      <td>16</td>\n",
       "      <td>42332966</td>\n",
       "      <td>9</td>\n",
       "      <td>cnn.com</td>\n",
       "      <td>https://www.cnn.com/2020/05/06/asia/coronaviru...</td>\n",
       "      <td>0</td>\n",
       "      <td>The Wuhan lab at the center of the US-China bl...</td>\n",
       "      <td>Hong Kong (CNN) Questions surrounding the orig...</td>\n",
       "    </tr>\n",
       "  </tbody>\n",
       "</table>\n",
       "</div>"
      ],
      "text/plain": [
       "     article_pk  domain_pk          domain_name  \\\n",
       "182    42302300       1594  businessinsider.com   \n",
       "16     42332966          9              cnn.com   \n",
       "\n",
       "                                           article_url  label  \\\n",
       "182  http://nordic.businessinsider.com/us-records-h...      0   \n",
       "16   https://www.cnn.com/2020/05/06/asia/coronaviru...      0   \n",
       "\n",
       "                                      article_headline  \\\n",
       "182  The US records its highest daily death toll as...   \n",
       "16   The Wuhan lab at the center of the US-China bl...   \n",
       "\n",
       "                                          article_text  \n",
       "182  The US recorded its deadliest day during the c...  \n",
       "16   Hong Kong (CNN) Questions surrounding the orig...  "
      ]
     },
     "execution_count": 342,
     "metadata": {},
     "output_type": "execute_result"
    }
   ],
   "source": [
    "neg.sample(2)"
   ]
  },
  {
   "cell_type": "code",
   "execution_count": 343,
   "metadata": {},
   "outputs": [
    {
     "data": {
      "text/plain": [
       "(278, 7)"
      ]
     },
     "execution_count": 343,
     "metadata": {},
     "output_type": "execute_result"
    }
   ],
   "source": [
    "# without duplicates \n",
    "neg.shape"
   ]
  },
  {
   "cell_type": "code",
   "execution_count": 344,
   "metadata": {},
   "outputs": [
    {
     "data": {
      "text/plain": [
       "(8419, 7)"
      ]
     },
     "execution_count": 344,
     "metadata": {},
     "output_type": "execute_result"
    }
   ],
   "source": [
    "# without duplicates \n",
    "pos.shape"
   ]
  },
  {
   "cell_type": "code",
   "execution_count": 345,
   "metadata": {},
   "outputs": [
    {
     "data": {
      "text/plain": [
       "41"
      ]
     },
     "execution_count": 345,
     "metadata": {},
     "output_type": "execute_result"
    }
   ],
   "source": [
    "# unique domains in negative \n",
    "neg['domain_name'].nunique()"
   ]
  },
  {
   "cell_type": "code",
   "execution_count": 346,
   "metadata": {},
   "outputs": [
    {
     "data": {
      "text/plain": [
       "112"
      ]
     },
     "execution_count": 346,
     "metadata": {},
     "output_type": "execute_result"
    }
   ],
   "source": [
    "# unique domains in positive\n",
    "pos['domain_name'].nunique()"
   ]
  },
  {
   "cell_type": "code",
   "execution_count": 347,
   "metadata": {},
   "outputs": [
    {
     "data": {
      "text/plain": [
       "Text(0.5, 1.0, 'Article Distribution by Domain for Positive Dataset')"
      ]
     },
     "execution_count": 347,
     "metadata": {},
     "output_type": "execute_result"
    },
    {
     "data": {
      "image/png": "[encoded data removed]",
      "text/plain": [
       "<Figure size 432x288 with 1 Axes>"
      ]
     },
     "metadata": {},
     "output_type": "display_data"
    }
   ],
   "source": [
    "# top 15 positive domains\n",
    "top_pos_domains = pos.groupby([\"domain_name\"])[\"article_text\"].count().sort_values(ascending=False)[:15]\n",
    "sns.set(font_scale = 1, palette = 'deep', color_codes=True)\n",
    "sns.distplot(top_pos_domains, hist=True, rug=True, axlabel =\"Articles\", color=\"blue\")\n",
    "plt.title(\"Article Distribution by Domain for Positive Dataset\")"
   ]
  },
  {
   "cell_type": "code",
   "execution_count": 348,
   "metadata": {},
   "outputs": [
    {
     "data": {
      "text/plain": [
       "Text(0.5, 1.0, 'Article Distribution by Domain for Negative Dataset')"
      ]
     },
     "execution_count": 348,
     "metadata": {},
     "output_type": "execute_result"
    },
    {
     "data": {
      "image/png": "[encoded data removed]",
      "text/plain": [
       "<Figure size 432x288 with 1 Axes>"
      ]
     },
     "metadata": {},
     "output_type": "display_data"
    }
   ],
   "source": [
    "# top 15 positive domains\n",
    "top_neg_domains = neg.groupby(\"domain_name\")[\"article_text\"].count().sort_values(ascending=False)[:15]\n",
    "sns.set(font_scale = 1)\n",
    "sns.distplot(top_neg_domains, hist=True, rug=True, axlabel=\"Articles\", color=\"green\")\n",
    "plt.title(\"Article Distribution by Domain for Negative Dataset\")"
   ]
  },
  {
   "cell_type": "code",
   "execution_count": 349,
   "metadata": {},
   "outputs": [
    {
     "data": {
      "text/plain": [
       "domain_name\n",
       "https://www.theepochtimes.com                 1140\n",
       "breitbart.com                                  906\n",
       "infowars.com                                   397\n",
       "aanirfan.blogspot.co.uk                        395\n",
       "zerohedge.com                                  349\n",
       "pajamasmedia.com                               341\n",
       "https://www.timesnownews.com                   328\n",
       "counterinformation.wordpress.com               254\n",
       "therussophile.org                              252\n",
       "https://uprootedpalestinians.wordpress.com     252\n",
       "Name: article_text, dtype: int64"
      ]
     },
     "execution_count": 349,
     "metadata": {},
     "output_type": "execute_result"
    }
   ],
   "source": [
    "# Top 10 domains in positive dataset\n",
    "top_pos_domains.head(10)"
   ]
  },
  {
   "cell_type": "code",
   "execution_count": 350,
   "metadata": {},
   "outputs": [
    {
     "data": {
      "text/plain": [
       "domain_name\n",
       "businessinsider.com    36\n",
       "jpost.com              21\n",
       "cnn.com                20\n",
       "motherjones.com        18\n",
       "gulfnews.com           16\n",
       "independent.co.uk      15\n",
       "cnbc.com               14\n",
       "foreignpolicy.com      13\n",
       "slate.com              12\n",
       "politico.com           12\n",
       "Name: article_text, dtype: int64"
      ]
     },
     "execution_count": 350,
     "metadata": {},
     "output_type": "execute_result"
    }
   ],
   "source": [
    "# Top 10 domains in negative dataset\n",
    "top_neg_domains.head(10)"
   ]
  },
  {
   "cell_type": "code",
   "execution_count": 430,
   "metadata": {},
   "outputs": [
    {
     "data": {
      "text/html": [
       "<div>\n",
       "<style scoped>\n",
       "    .dataframe tbody tr th:only-of-type {\n",
       "        vertical-align: middle;\n",
       "    }\n",
       "\n",
       "    .dataframe tbody tr th {\n",
       "        vertical-align: top;\n",
       "    }\n",
       "\n",
       "    .dataframe thead th {\n",
       "        text-align: right;\n",
       "    }\n",
       "</style>\n",
       "<table border=\"1\" class=\"dataframe\">\n",
       "  <thead>\n",
       "    <tr style=\"text-align: right;\">\n",
       "      <th></th>\n",
       "      <th>domain_name</th>\n",
       "    </tr>\n",
       "    <tr>\n",
       "      <th>end</th>\n",
       "      <th></th>\n",
       "    </tr>\n",
       "  </thead>\n",
       "  <tbody>\n",
       "    <tr>\n",
       "      <td>com</td>\n",
       "      <td>32</td>\n",
       "    </tr>\n",
       "    <tr>\n",
       "      <td>org</td>\n",
       "      <td>2</td>\n",
       "    </tr>\n",
       "    <tr>\n",
       "      <td>uk</td>\n",
       "      <td>2</td>\n",
       "    </tr>\n",
       "    <tr>\n",
       "      <td>fr</td>\n",
       "      <td>1</td>\n",
       "    </tr>\n",
       "    <tr>\n",
       "      <td>it</td>\n",
       "      <td>1</td>\n",
       "    </tr>\n",
       "    <tr>\n",
       "      <td>jp</td>\n",
       "      <td>1</td>\n",
       "    </tr>\n",
       "    <tr>\n",
       "      <td>lk</td>\n",
       "      <td>1</td>\n",
       "    </tr>\n",
       "    <tr>\n",
       "      <td>pk</td>\n",
       "      <td>1</td>\n",
       "    </tr>\n",
       "  </tbody>\n",
       "</table>\n",
       "</div>"
      ],
      "text/plain": [
       "     domain_name\n",
       "end             \n",
       "com           32\n",
       "org            2\n",
       "uk             2\n",
       "fr             1\n",
       "it             1\n",
       "jp             1\n",
       "lk             1\n",
       "pk             1"
      ]
     },
     "execution_count": 430,
     "metadata": {},
     "output_type": "execute_result"
    }
   ],
   "source": [
    "# analyzing negative domains\n",
    "neg_domains = pd.DataFrame(neg['domain_name'].astype(str))\n",
    "neg_domains.drop_duplicates(keep='first',inplace=True)\n",
    "neg_domains.head()\n",
    "\n",
    "neg_domains['end'] = neg_domains['domain_name'].apply(lambda x: x.split('.')[-1])\n",
    "neg_domains\n",
    "#pos_domains['end2'] = pos_domains['domain_name'].apply(lambda x: x.split('.')[-2])\n",
    "neg_domains.groupby(['end']).count().sort_values( by='domain_name', ascending=False)"
   ]
  },
  {
   "cell_type": "code",
   "execution_count": 434,
   "metadata": {},
   "outputs": [
    {
     "data": {
      "text/html": [
       "<div>\n",
       "<style scoped>\n",
       "    .dataframe tbody tr th:only-of-type {\n",
       "        vertical-align: middle;\n",
       "    }\n",
       "\n",
       "    .dataframe tbody tr th {\n",
       "        vertical-align: top;\n",
       "    }\n",
       "\n",
       "    .dataframe thead th {\n",
       "        text-align: right;\n",
       "    }\n",
       "</style>\n",
       "<table border=\"1\" class=\"dataframe\">\n",
       "  <thead>\n",
       "    <tr style=\"text-align: right;\">\n",
       "      <th></th>\n",
       "      <th>domain_name</th>\n",
       "    </tr>\n",
       "    <tr>\n",
       "      <th>end</th>\n",
       "      <th></th>\n",
       "    </tr>\n",
       "  </thead>\n",
       "  <tbody>\n",
       "    <tr>\n",
       "      <td>com</td>\n",
       "      <td>77</td>\n",
       "    </tr>\n",
       "    <tr>\n",
       "      <td>news</td>\n",
       "      <td>16</td>\n",
       "    </tr>\n",
       "    <tr>\n",
       "      <td>org</td>\n",
       "      <td>9</td>\n",
       "    </tr>\n",
       "    <tr>\n",
       "      <td>net</td>\n",
       "      <td>6</td>\n",
       "    </tr>\n",
       "    <tr>\n",
       "      <td>biz</td>\n",
       "      <td>1</td>\n",
       "    </tr>\n",
       "  </tbody>\n",
       "</table>\n",
       "</div>"
      ],
      "text/plain": [
       "      domain_name\n",
       "end              \n",
       "com            77\n",
       "news           16\n",
       "org             9\n",
       "net             6\n",
       "biz             1"
      ]
     },
     "execution_count": 434,
     "metadata": {},
     "output_type": "execute_result"
    }
   ],
   "source": [
    "# analyzing positive domains\n",
    "pos_domains = pd.DataFrame(pos['domain_name'].astype(str))\n",
    "pos_domains.drop_duplicates(keep='first',inplace=True)\n",
    "pos_domains.head()\n",
    "\n",
    "\n",
    "pos_domains['end'] = pos_domains['domain_name'].apply(lambda x: x.split('.')[-1])\n",
    "pos_domains\n",
    "#pos_domains['end2'] = pos_domains['domain_name'].apply(lambda x: x.split('.')[-2])\n",
    "pos_by_end = pos_domains.groupby(['end']).count().sort_values( by='domain_name', ascending=False)\n",
    "pos_by_end.head()"
   ]
  },
  {
   "cell_type": "code",
   "execution_count": 352,
   "metadata": {},
   "outputs": [],
   "source": [
    "pos['article_text'] = pos['article_text'].astype(str)"
   ]
  },
  {
   "cell_type": "code",
   "execution_count": 353,
   "metadata": {},
   "outputs": [
    {
     "data": {
      "text/html": [
       "<div>\n",
       "<style scoped>\n",
       "    .dataframe tbody tr th:only-of-type {\n",
       "        vertical-align: middle;\n",
       "    }\n",
       "\n",
       "    .dataframe tbody tr th {\n",
       "        vertical-align: top;\n",
       "    }\n",
       "\n",
       "    .dataframe thead th {\n",
       "        text-align: right;\n",
       "    }\n",
       "</style>\n",
       "<table border=\"1\" class=\"dataframe\">\n",
       "  <thead>\n",
       "    <tr style=\"text-align: right;\">\n",
       "      <th></th>\n",
       "      <th>article_pk</th>\n",
       "      <th>domain_pk</th>\n",
       "      <th>domain_name</th>\n",
       "      <th>article_url</th>\n",
       "      <th>label</th>\n",
       "      <th>article_headline</th>\n",
       "      <th>article_text</th>\n",
       "    </tr>\n",
       "  </thead>\n",
       "  <tbody>\n",
       "    <tr>\n",
       "      <td>0</td>\n",
       "      <td>46858240</td>\n",
       "      <td>3922</td>\n",
       "      <td>westernjournal.com</td>\n",
       "      <td>https://www.westernjournal.com/first-four-fact...</td>\n",
       "      <td>1</td>\n",
       "      <td>Gretchen Whitmer: First Four Facts You Need To...</td>\n",
       "      <td>Democratic Gov. Gretchen Whitmer has made quit...</td>\n",
       "    </tr>\n",
       "  </tbody>\n",
       "</table>\n",
       "</div>"
      ],
      "text/plain": [
       "   article_pk  domain_pk         domain_name  \\\n",
       "0    46858240       3922  westernjournal.com   \n",
       "\n",
       "                                         article_url  label  \\\n",
       "0  https://www.westernjournal.com/first-four-fact...      1   \n",
       "\n",
       "                                    article_headline  \\\n",
       "0  Gretchen Whitmer: First Four Facts You Need To...   \n",
       "\n",
       "                                        article_text  \n",
       "0  Democratic Gov. Gretchen Whitmer has made quit...  "
      ]
     },
     "execution_count": 353,
     "metadata": {},
     "output_type": "execute_result"
    }
   ],
   "source": [
    "pos.head(1)"
   ]
  },
  {
   "cell_type": "code",
   "execution_count": 354,
   "metadata": {},
   "outputs": [],
   "source": [
    "tokenizer = RegexpTokenizer(r'\\w+')"
   ]
  },
  {
   "cell_type": "code",
   "execution_count": 355,
   "metadata": {},
   "outputs": [],
   "source": [
    "# tokenizing text \n",
    "pos['tokenized'] = [tokenizer.tokenize(text) for text in pos['article_text']]    "
   ]
  },
  {
   "cell_type": "code",
   "execution_count": 356,
   "metadata": {},
   "outputs": [],
   "source": [
    "def lower_case(col):\n",
    "    lower_tokens = [tok.lower() for tok in col]\n",
    "    return lower_tokens"
   ]
  },
  {
   "cell_type": "code",
   "execution_count": 357,
   "metadata": {},
   "outputs": [],
   "source": [
    "# lower-casing \n",
    "pos['tokenized'] = [lower_case(col) for col in pos['tokenized']]"
   ]
  },
  {
   "cell_type": "code",
   "execution_count": 358,
   "metadata": {},
   "outputs": [
    {
     "data": {
      "text/html": [
       "<div>\n",
       "<style scoped>\n",
       "    .dataframe tbody tr th:only-of-type {\n",
       "        vertical-align: middle;\n",
       "    }\n",
       "\n",
       "    .dataframe tbody tr th {\n",
       "        vertical-align: top;\n",
       "    }\n",
       "\n",
       "    .dataframe thead th {\n",
       "        text-align: right;\n",
       "    }\n",
       "</style>\n",
       "<table border=\"1\" class=\"dataframe\">\n",
       "  <thead>\n",
       "    <tr style=\"text-align: right;\">\n",
       "      <th></th>\n",
       "      <th>article_pk</th>\n",
       "      <th>domain_pk</th>\n",
       "      <th>domain_name</th>\n",
       "      <th>article_url</th>\n",
       "      <th>label</th>\n",
       "      <th>article_headline</th>\n",
       "      <th>article_text</th>\n",
       "      <th>tokenized</th>\n",
       "    </tr>\n",
       "  </thead>\n",
       "  <tbody>\n",
       "    <tr>\n",
       "      <td>0</td>\n",
       "      <td>46858240</td>\n",
       "      <td>3922</td>\n",
       "      <td>westernjournal.com</td>\n",
       "      <td>https://www.westernjournal.com/first-four-fact...</td>\n",
       "      <td>1</td>\n",
       "      <td>Gretchen Whitmer: First Four Facts You Need To...</td>\n",
       "      <td>Democratic Gov. Gretchen Whitmer has made quit...</td>\n",
       "      <td>[democratic, gov, gretchen, whitmer, has, made...</td>\n",
       "    </tr>\n",
       "  </tbody>\n",
       "</table>\n",
       "</div>"
      ],
      "text/plain": [
       "   article_pk  domain_pk         domain_name  \\\n",
       "0    46858240       3922  westernjournal.com   \n",
       "\n",
       "                                         article_url  label  \\\n",
       "0  https://www.westernjournal.com/first-four-fact...      1   \n",
       "\n",
       "                                    article_headline  \\\n",
       "0  Gretchen Whitmer: First Four Facts You Need To...   \n",
       "\n",
       "                                        article_text  \\\n",
       "0  Democratic Gov. Gretchen Whitmer has made quit...   \n",
       "\n",
       "                                           tokenized  \n",
       "0  [democratic, gov, gretchen, whitmer, has, made...  "
      ]
     },
     "execution_count": 358,
     "metadata": {},
     "output_type": "execute_result"
    }
   ],
   "source": [
    "pos.head(1)"
   ]
  },
  {
   "cell_type": "code",
   "execution_count": 359,
   "metadata": {},
   "outputs": [],
   "source": [
    "stopwords_english = stopwords.words('english')"
   ]
  },
  {
   "cell_type": "code",
   "execution_count": 360,
   "metadata": {},
   "outputs": [],
   "source": [
    "# removing stopwords\n",
    "def no_stopwords(col):\n",
    "    nostop_words = [tok for tok in col if tok not in stopwords_english]\n",
    "    return nostop_words"
   ]
  },
  {
   "cell_type": "code",
   "execution_count": 361,
   "metadata": {},
   "outputs": [],
   "source": [
    "pos['clean'] = [no_stopwords(col) for col in pos['tokenized']]"
   ]
  },
  {
   "cell_type": "code",
   "execution_count": 362,
   "metadata": {},
   "outputs": [
    {
     "data": {
      "text/html": [
       "<div>\n",
       "<style scoped>\n",
       "    .dataframe tbody tr th:only-of-type {\n",
       "        vertical-align: middle;\n",
       "    }\n",
       "\n",
       "    .dataframe tbody tr th {\n",
       "        vertical-align: top;\n",
       "    }\n",
       "\n",
       "    .dataframe thead th {\n",
       "        text-align: right;\n",
       "    }\n",
       "</style>\n",
       "<table border=\"1\" class=\"dataframe\">\n",
       "  <thead>\n",
       "    <tr style=\"text-align: right;\">\n",
       "      <th></th>\n",
       "      <th>article_pk</th>\n",
       "      <th>domain_pk</th>\n",
       "      <th>domain_name</th>\n",
       "      <th>article_url</th>\n",
       "      <th>label</th>\n",
       "      <th>article_headline</th>\n",
       "      <th>article_text</th>\n",
       "      <th>tokenized</th>\n",
       "      <th>clean</th>\n",
       "    </tr>\n",
       "  </thead>\n",
       "  <tbody>\n",
       "    <tr>\n",
       "      <td>0</td>\n",
       "      <td>46858240</td>\n",
       "      <td>3922</td>\n",
       "      <td>westernjournal.com</td>\n",
       "      <td>https://www.westernjournal.com/first-four-fact...</td>\n",
       "      <td>1</td>\n",
       "      <td>Gretchen Whitmer: First Four Facts You Need To...</td>\n",
       "      <td>Democratic Gov. Gretchen Whitmer has made quit...</td>\n",
       "      <td>[democratic, gov, gretchen, whitmer, has, made...</td>\n",
       "      <td>[democratic, gov, gretchen, whitmer, made, qui...</td>\n",
       "    </tr>\n",
       "  </tbody>\n",
       "</table>\n",
       "</div>"
      ],
      "text/plain": [
       "   article_pk  domain_pk         domain_name  \\\n",
       "0    46858240       3922  westernjournal.com   \n",
       "\n",
       "                                         article_url  label  \\\n",
       "0  https://www.westernjournal.com/first-four-fact...      1   \n",
       "\n",
       "                                    article_headline  \\\n",
       "0  Gretchen Whitmer: First Four Facts You Need To...   \n",
       "\n",
       "                                        article_text  \\\n",
       "0  Democratic Gov. Gretchen Whitmer has made quit...   \n",
       "\n",
       "                                           tokenized  \\\n",
       "0  [democratic, gov, gretchen, whitmer, has, made...   \n",
       "\n",
       "                                               clean  \n",
       "0  [democratic, gov, gretchen, whitmer, made, qui...  "
      ]
     },
     "execution_count": 362,
     "metadata": {},
     "output_type": "execute_result"
    }
   ],
   "source": [
    "pos.head(1)"
   ]
  },
  {
   "cell_type": "code",
   "execution_count": 363,
   "metadata": {},
   "outputs": [],
   "source": [
    "def alpha_only(col):\n",
    "    alpha_tokens = [tok for tok in col if tok.isalpha()]\n",
    "    return alpha_tokens"
   ]
  },
  {
   "cell_type": "code",
   "execution_count": 364,
   "metadata": {},
   "outputs": [],
   "source": [
    "# getting alpha characters only\n",
    "pos['clean'] = [alpha_only(tok) for tok in pos['clean']]"
   ]
  },
  {
   "cell_type": "code",
   "execution_count": 365,
   "metadata": {},
   "outputs": [
    {
     "data": {
      "text/html": [
       "<div>\n",
       "<style scoped>\n",
       "    .dataframe tbody tr th:only-of-type {\n",
       "        vertical-align: middle;\n",
       "    }\n",
       "\n",
       "    .dataframe tbody tr th {\n",
       "        vertical-align: top;\n",
       "    }\n",
       "\n",
       "    .dataframe thead th {\n",
       "        text-align: right;\n",
       "    }\n",
       "</style>\n",
       "<table border=\"1\" class=\"dataframe\">\n",
       "  <thead>\n",
       "    <tr style=\"text-align: right;\">\n",
       "      <th></th>\n",
       "      <th>article_pk</th>\n",
       "      <th>domain_pk</th>\n",
       "      <th>domain_name</th>\n",
       "      <th>article_url</th>\n",
       "      <th>label</th>\n",
       "      <th>article_headline</th>\n",
       "      <th>article_text</th>\n",
       "      <th>tokenized</th>\n",
       "      <th>clean</th>\n",
       "    </tr>\n",
       "  </thead>\n",
       "  <tbody>\n",
       "    <tr>\n",
       "      <td>0</td>\n",
       "      <td>46858240</td>\n",
       "      <td>3922</td>\n",
       "      <td>westernjournal.com</td>\n",
       "      <td>https://www.westernjournal.com/first-four-fact...</td>\n",
       "      <td>1</td>\n",
       "      <td>Gretchen Whitmer: First Four Facts You Need To...</td>\n",
       "      <td>Democratic Gov. Gretchen Whitmer has made quit...</td>\n",
       "      <td>[democratic, gov, gretchen, whitmer, has, made...</td>\n",
       "      <td>[democratic, gov, gretchen, whitmer, made, qui...</td>\n",
       "    </tr>\n",
       "  </tbody>\n",
       "</table>\n",
       "</div>"
      ],
      "text/plain": [
       "   article_pk  domain_pk         domain_name  \\\n",
       "0    46858240       3922  westernjournal.com   \n",
       "\n",
       "                                         article_url  label  \\\n",
       "0  https://www.westernjournal.com/first-four-fact...      1   \n",
       "\n",
       "                                    article_headline  \\\n",
       "0  Gretchen Whitmer: First Four Facts You Need To...   \n",
       "\n",
       "                                        article_text  \\\n",
       "0  Democratic Gov. Gretchen Whitmer has made quit...   \n",
       "\n",
       "                                           tokenized  \\\n",
       "0  [democratic, gov, gretchen, whitmer, has, made...   \n",
       "\n",
       "                                               clean  \n",
       "0  [democratic, gov, gretchen, whitmer, made, qui...  "
      ]
     },
     "execution_count": 365,
     "metadata": {},
     "output_type": "execute_result"
    }
   ],
   "source": [
    "pos.head(1)"
   ]
  },
  {
   "cell_type": "code",
   "execution_count": 366,
   "metadata": {},
   "outputs": [],
   "source": [
    "# dumping all text together \n",
    "all_text = []\n",
    "for text in pos['clean']:\n",
    "    for word in text:\n",
    "        all_text.append(word)"
   ]
  },
  {
   "cell_type": "code",
   "execution_count": 367,
   "metadata": {},
   "outputs": [],
   "source": [
    "pos['length'] = [len(text) for text in pos['clean']]"
   ]
  },
  {
   "cell_type": "code",
   "execution_count": 368,
   "metadata": {},
   "outputs": [
    {
     "data": {
      "text/html": [
       "<div>\n",
       "<style scoped>\n",
       "    .dataframe tbody tr th:only-of-type {\n",
       "        vertical-align: middle;\n",
       "    }\n",
       "\n",
       "    .dataframe tbody tr th {\n",
       "        vertical-align: top;\n",
       "    }\n",
       "\n",
       "    .dataframe thead th {\n",
       "        text-align: right;\n",
       "    }\n",
       "</style>\n",
       "<table border=\"1\" class=\"dataframe\">\n",
       "  <thead>\n",
       "    <tr style=\"text-align: right;\">\n",
       "      <th></th>\n",
       "      <th>article_pk</th>\n",
       "      <th>domain_pk</th>\n",
       "      <th>domain_name</th>\n",
       "      <th>article_url</th>\n",
       "      <th>label</th>\n",
       "      <th>article_headline</th>\n",
       "      <th>article_text</th>\n",
       "      <th>tokenized</th>\n",
       "      <th>clean</th>\n",
       "      <th>length</th>\n",
       "    </tr>\n",
       "  </thead>\n",
       "  <tbody>\n",
       "    <tr>\n",
       "      <td>0</td>\n",
       "      <td>46858240</td>\n",
       "      <td>3922</td>\n",
       "      <td>westernjournal.com</td>\n",
       "      <td>https://www.westernjournal.com/first-four-fact...</td>\n",
       "      <td>1</td>\n",
       "      <td>Gretchen Whitmer: First Four Facts You Need To...</td>\n",
       "      <td>Democratic Gov. Gretchen Whitmer has made quit...</td>\n",
       "      <td>[democratic, gov, gretchen, whitmer, has, made...</td>\n",
       "      <td>[democratic, gov, gretchen, whitmer, made, qui...</td>\n",
       "      <td>495</td>\n",
       "    </tr>\n",
       "    <tr>\n",
       "      <td>1</td>\n",
       "      <td>38076419</td>\n",
       "      <td>51</td>\n",
       "      <td>aanirfan.blogspot.co.uk</td>\n",
       "      <td>http://aanirfan.blogspot.com/2020/05/randolph-...</td>\n",
       "      <td>1</td>\n",
       "      <td>NaN</td>\n",
       "      <td>Aangirfan\\nFriday, 1 May 2020\\nRANDOLPH STEWAR...</td>\n",
       "      <td>[aangirfan, friday, 1, may, 2020, randolph, st...</td>\n",
       "      <td>[aangirfan, friday, may, randolph, stewart, ra...</td>\n",
       "      <td>455</td>\n",
       "    </tr>\n",
       "  </tbody>\n",
       "</table>\n",
       "</div>"
      ],
      "text/plain": [
       "   article_pk  domain_pk              domain_name  \\\n",
       "0    46858240       3922       westernjournal.com   \n",
       "1    38076419         51  aanirfan.blogspot.co.uk   \n",
       "\n",
       "                                         article_url  label  \\\n",
       "0  https://www.westernjournal.com/first-four-fact...      1   \n",
       "1  http://aanirfan.blogspot.com/2020/05/randolph-...      1   \n",
       "\n",
       "                                    article_headline  \\\n",
       "0  Gretchen Whitmer: First Four Facts You Need To...   \n",
       "1                                                NaN   \n",
       "\n",
       "                                        article_text  \\\n",
       "0  Democratic Gov. Gretchen Whitmer has made quit...   \n",
       "1  Aangirfan\\nFriday, 1 May 2020\\nRANDOLPH STEWAR...   \n",
       "\n",
       "                                           tokenized  \\\n",
       "0  [democratic, gov, gretchen, whitmer, has, made...   \n",
       "1  [aangirfan, friday, 1, may, 2020, randolph, st...   \n",
       "\n",
       "                                               clean  length  \n",
       "0  [democratic, gov, gretchen, whitmer, made, qui...     495  \n",
       "1  [aangirfan, friday, may, randolph, stewart, ra...     455  "
      ]
     },
     "execution_count": 368,
     "metadata": {},
     "output_type": "execute_result"
    }
   ],
   "source": [
    "pos.head(2)"
   ]
  },
  {
   "cell_type": "code",
   "execution_count": 369,
   "metadata": {},
   "outputs": [
    {
     "data": {
      "text/plain": [
       "843.5172823375698"
      ]
     },
     "execution_count": 369,
     "metadata": {},
     "output_type": "execute_result"
    }
   ],
   "source": [
    "# average length of article for positive dataset\n",
    "average_length_pos = pos['length'].mean()\n",
    "average_length_pos"
   ]
  },
  {
   "cell_type": "code",
   "execution_count": 370,
   "metadata": {},
   "outputs": [
    {
     "data": {
      "text/plain": [
       "12416"
      ]
     },
     "execution_count": 370,
     "metadata": {},
     "output_type": "execute_result"
    }
   ],
   "source": [
    "# max length of article for positive dataset\n",
    "max_length_pos = pos['length'].max()\n",
    "max_length_pos"
   ]
  },
  {
   "cell_type": "code",
   "execution_count": 371,
   "metadata": {},
   "outputs": [
    {
     "data": {
      "text/plain": [
       "7"
      ]
     },
     "execution_count": 371,
     "metadata": {},
     "output_type": "execute_result"
    }
   ],
   "source": [
    "# min length of article for positive dataset\n",
    "min_length_pos = pos['length'].min()\n",
    "min_length_pos"
   ]
  },
  {
   "cell_type": "code",
   "execution_count": 372,
   "metadata": {},
   "outputs": [
    {
     "data": {
      "text/plain": [
       "count     8419.000000\n",
       "mean       843.517282\n",
       "std       1164.251556\n",
       "min          7.000000\n",
       "25%        303.000000\n",
       "50%        486.000000\n",
       "75%        864.000000\n",
       "max      12416.000000\n",
       "Name: length, dtype: float64"
      ]
     },
     "execution_count": 372,
     "metadata": {},
     "output_type": "execute_result"
    }
   ],
   "source": [
    "pos['length'].describe()"
   ]
  },
  {
   "cell_type": "code",
   "execution_count": 373,
   "metadata": {},
   "outputs": [],
   "source": [
    "# function to check for language \n",
    "def english_only(token):\n",
    "    english_only = []\n",
    "    for word in token:\n",
    "        if detect(word) == 'en': \n",
    "            return True\n",
    "        else:\n",
    "            return False\n",
    "    "
   ]
  },
  {
   "cell_type": "code",
   "execution_count": 374,
   "metadata": {},
   "outputs": [
    {
     "data": {
      "text/html": [
       "<div>\n",
       "<style scoped>\n",
       "    .dataframe tbody tr th:only-of-type {\n",
       "        vertical-align: middle;\n",
       "    }\n",
       "\n",
       "    .dataframe tbody tr th {\n",
       "        vertical-align: top;\n",
       "    }\n",
       "\n",
       "    .dataframe thead th {\n",
       "        text-align: right;\n",
       "    }\n",
       "</style>\n",
       "<table border=\"1\" class=\"dataframe\">\n",
       "  <thead>\n",
       "    <tr style=\"text-align: right;\">\n",
       "      <th></th>\n",
       "      <th>clean</th>\n",
       "    </tr>\n",
       "  </thead>\n",
       "  <tbody>\n",
       "    <tr>\n",
       "      <td>0</td>\n",
       "      <td>[democratic, gov, gretchen, whitmer, made, qui...</td>\n",
       "    </tr>\n",
       "    <tr>\n",
       "      <td>1</td>\n",
       "      <td>[aangirfan, friday, may, randolph, stewart, ra...</td>\n",
       "    </tr>\n",
       "    <tr>\n",
       "      <td>2</td>\n",
       "      <td>[senator, tom, cotton, believes, chinese, comm...</td>\n",
       "    </tr>\n",
       "  </tbody>\n",
       "</table>\n",
       "</div>"
      ],
      "text/plain": [
       "                                               clean\n",
       "0  [democratic, gov, gretchen, whitmer, made, qui...\n",
       "1  [aangirfan, friday, may, randolph, stewart, ra...\n",
       "2  [senator, tom, cotton, believes, chinese, comm..."
      ]
     },
     "execution_count": 374,
     "metadata": {},
     "output_type": "execute_result"
    }
   ],
   "source": [
    "# filtering for english only\n",
    "test = pd.DataFrame(pos['clean'][:3])\n",
    "test.head()"
   ]
  },
  {
   "cell_type": "code",
   "execution_count": 375,
   "metadata": {},
   "outputs": [],
   "source": [
    "pos['string'] =pos['clean'].astype(str)\n",
    "#pos['string']=' ,'.join(text for text in pos['string'])"
   ]
  },
  {
   "cell_type": "code",
   "execution_count": 376,
   "metadata": {},
   "outputs": [
    {
     "data": {
      "text/html": [
       "<div>\n",
       "<style scoped>\n",
       "    .dataframe tbody tr th:only-of-type {\n",
       "        vertical-align: middle;\n",
       "    }\n",
       "\n",
       "    .dataframe tbody tr th {\n",
       "        vertical-align: top;\n",
       "    }\n",
       "\n",
       "    .dataframe thead th {\n",
       "        text-align: right;\n",
       "    }\n",
       "</style>\n",
       "<table border=\"1\" class=\"dataframe\">\n",
       "  <thead>\n",
       "    <tr style=\"text-align: right;\">\n",
       "      <th></th>\n",
       "      <th>article_pk</th>\n",
       "      <th>domain_pk</th>\n",
       "      <th>domain_name</th>\n",
       "      <th>article_url</th>\n",
       "      <th>label</th>\n",
       "      <th>article_headline</th>\n",
       "      <th>article_text</th>\n",
       "      <th>tokenized</th>\n",
       "      <th>clean</th>\n",
       "      <th>length</th>\n",
       "      <th>string</th>\n",
       "    </tr>\n",
       "  </thead>\n",
       "  <tbody>\n",
       "    <tr>\n",
       "      <td>0</td>\n",
       "      <td>46858240</td>\n",
       "      <td>3922</td>\n",
       "      <td>westernjournal.com</td>\n",
       "      <td>https://www.westernjournal.com/first-four-fact...</td>\n",
       "      <td>1</td>\n",
       "      <td>Gretchen Whitmer: First Four Facts You Need To...</td>\n",
       "      <td>Democratic Gov. Gretchen Whitmer has made quit...</td>\n",
       "      <td>[democratic, gov, gretchen, whitmer, has, made...</td>\n",
       "      <td>[democratic, gov, gretchen, whitmer, made, qui...</td>\n",
       "      <td>495</td>\n",
       "      <td>['democratic', 'gov', 'gretchen', 'whitmer', '...</td>\n",
       "    </tr>\n",
       "  </tbody>\n",
       "</table>\n",
       "</div>"
      ],
      "text/plain": [
       "   article_pk  domain_pk         domain_name  \\\n",
       "0    46858240       3922  westernjournal.com   \n",
       "\n",
       "                                         article_url  label  \\\n",
       "0  https://www.westernjournal.com/first-four-fact...      1   \n",
       "\n",
       "                                    article_headline  \\\n",
       "0  Gretchen Whitmer: First Four Facts You Need To...   \n",
       "\n",
       "                                        article_text  \\\n",
       "0  Democratic Gov. Gretchen Whitmer has made quit...   \n",
       "\n",
       "                                           tokenized  \\\n",
       "0  [democratic, gov, gretchen, whitmer, has, made...   \n",
       "\n",
       "                                               clean  length  \\\n",
       "0  [democratic, gov, gretchen, whitmer, made, qui...     495   \n",
       "\n",
       "                                              string  \n",
       "0  ['democratic', 'gov', 'gretchen', 'whitmer', '...  "
      ]
     },
     "execution_count": 376,
     "metadata": {},
     "output_type": "execute_result"
    }
   ],
   "source": [
    "pos.head(1)"
   ]
  },
  {
   "cell_type": "code",
   "execution_count": 377,
   "metadata": {},
   "outputs": [],
   "source": [
    "pos['language'] = english_only(pos['string'])"
   ]
  },
  {
   "cell_type": "code",
   "execution_count": 378,
   "metadata": {},
   "outputs": [
    {
     "data": {
      "text/html": [
       "<div>\n",
       "<style scoped>\n",
       "    .dataframe tbody tr th:only-of-type {\n",
       "        vertical-align: middle;\n",
       "    }\n",
       "\n",
       "    .dataframe tbody tr th {\n",
       "        vertical-align: top;\n",
       "    }\n",
       "\n",
       "    .dataframe thead th {\n",
       "        text-align: right;\n",
       "    }\n",
       "</style>\n",
       "<table border=\"1\" class=\"dataframe\">\n",
       "  <thead>\n",
       "    <tr style=\"text-align: right;\">\n",
       "      <th></th>\n",
       "      <th>article_pk</th>\n",
       "      <th>domain_pk</th>\n",
       "      <th>domain_name</th>\n",
       "      <th>article_url</th>\n",
       "      <th>label</th>\n",
       "      <th>article_headline</th>\n",
       "      <th>article_text</th>\n",
       "      <th>tokenized</th>\n",
       "      <th>clean</th>\n",
       "      <th>length</th>\n",
       "      <th>string</th>\n",
       "      <th>language</th>\n",
       "    </tr>\n",
       "  </thead>\n",
       "  <tbody>\n",
       "    <tr>\n",
       "      <td>0</td>\n",
       "      <td>46858240</td>\n",
       "      <td>3922</td>\n",
       "      <td>westernjournal.com</td>\n",
       "      <td>https://www.westernjournal.com/first-four-fact...</td>\n",
       "      <td>1</td>\n",
       "      <td>Gretchen Whitmer: First Four Facts You Need To...</td>\n",
       "      <td>Democratic Gov. Gretchen Whitmer has made quit...</td>\n",
       "      <td>[democratic, gov, gretchen, whitmer, has, made...</td>\n",
       "      <td>[democratic, gov, gretchen, whitmer, made, qui...</td>\n",
       "      <td>495</td>\n",
       "      <td>['democratic', 'gov', 'gretchen', 'whitmer', '...</td>\n",
       "      <td>True</td>\n",
       "    </tr>\n",
       "  </tbody>\n",
       "</table>\n",
       "</div>"
      ],
      "text/plain": [
       "   article_pk  domain_pk         domain_name  \\\n",
       "0    46858240       3922  westernjournal.com   \n",
       "\n",
       "                                         article_url  label  \\\n",
       "0  https://www.westernjournal.com/first-four-fact...      1   \n",
       "\n",
       "                                    article_headline  \\\n",
       "0  Gretchen Whitmer: First Four Facts You Need To...   \n",
       "\n",
       "                                        article_text  \\\n",
       "0  Democratic Gov. Gretchen Whitmer has made quit...   \n",
       "\n",
       "                                           tokenized  \\\n",
       "0  [democratic, gov, gretchen, whitmer, has, made...   \n",
       "\n",
       "                                               clean  length  \\\n",
       "0  [democratic, gov, gretchen, whitmer, made, qui...     495   \n",
       "\n",
       "                                              string  language  \n",
       "0  ['democratic', 'gov', 'gretchen', 'whitmer', '...      True  "
      ]
     },
     "execution_count": 378,
     "metadata": {},
     "output_type": "execute_result"
    }
   ],
   "source": [
    "pos.head(1)"
   ]
  },
  {
   "cell_type": "code",
   "execution_count": 379,
   "metadata": {},
   "outputs": [],
   "source": [
    "# checking to see if any language is picking up as False\n",
    "non_english = pos.loc[pos['language'] == False]\n",
    "\n",
    "\n"
   ]
  },
  {
   "cell_type": "code",
   "execution_count": 380,
   "metadata": {},
   "outputs": [
    {
     "data": {
      "text/html": [
       "<div>\n",
       "<style scoped>\n",
       "    .dataframe tbody tr th:only-of-type {\n",
       "        vertical-align: middle;\n",
       "    }\n",
       "\n",
       "    .dataframe tbody tr th {\n",
       "        vertical-align: top;\n",
       "    }\n",
       "\n",
       "    .dataframe thead th {\n",
       "        text-align: right;\n",
       "    }\n",
       "</style>\n",
       "<table border=\"1\" class=\"dataframe\">\n",
       "  <thead>\n",
       "    <tr style=\"text-align: right;\">\n",
       "      <th></th>\n",
       "      <th>article_pk</th>\n",
       "      <th>domain_pk</th>\n",
       "      <th>domain_name</th>\n",
       "      <th>article_url</th>\n",
       "      <th>label</th>\n",
       "      <th>article_headline</th>\n",
       "      <th>article_text</th>\n",
       "      <th>tokenized</th>\n",
       "      <th>clean</th>\n",
       "      <th>length</th>\n",
       "      <th>string</th>\n",
       "      <th>language</th>\n",
       "    </tr>\n",
       "  </thead>\n",
       "  <tbody>\n",
       "  </tbody>\n",
       "</table>\n",
       "</div>"
      ],
      "text/plain": [
       "Empty DataFrame\n",
       "Columns: [article_pk, domain_pk, domain_name, article_url, label, article_headline, article_text, tokenized, clean, length, string, language]\n",
       "Index: []"
      ]
     },
     "execution_count": 380,
     "metadata": {},
     "output_type": "execute_result"
    }
   ],
   "source": [
    "# looks like none of it is picking up\n",
    "non_english.head()"
   ]
  },
  {
   "cell_type": "code",
   "execution_count": 381,
   "metadata": {},
   "outputs": [
    {
     "data": {
      "text/plain": [
       "7101572"
      ]
     },
     "execution_count": 381,
     "metadata": {},
     "output_type": "execute_result"
    }
   ],
   "source": [
    "len(all_text)"
   ]
  },
  {
   "cell_type": "code",
   "execution_count": 382,
   "metadata": {},
   "outputs": [
    {
     "data": {
      "text/plain": [
       "[('coronavirus', 39910),\n",
       " ('people', 38767),\n",
       " ('said', 28044),\n",
       " ('may', 26934),\n",
       " ('covid', 26866),\n",
       " ('new', 26487),\n",
       " ('one', 24978),\n",
       " ('china', 24958),\n",
       " ('virus', 24030),\n",
       " ('us', 23865),\n",
       " ('trump', 23019),\n",
       " ('world', 22444),\n",
       " ('would', 22166),\n",
       " ('government', 21657),\n",
       " ('also', 20354),\n",
       " ('health', 18774),\n",
       " ('state', 18539),\n",
       " ('april', 16432),\n",
       " ('like', 16176),\n",
       " ('even', 15221)]"
      ]
     },
     "execution_count": 382,
     "metadata": {},
     "output_type": "execute_result"
    }
   ],
   "source": [
    "# most common words in positive corpus\n",
    "Counter(all_text).most_common(20)"
   ]
  },
  {
   "cell_type": "code",
   "execution_count": 389,
   "metadata": {},
   "outputs": [
    {
     "data": {
      "image/png": "[encoded data removed]",
      "text/plain": [
       "<Figure size 3240x720 with 1 Axes>"
      ]
     },
     "metadata": {},
     "output_type": "display_data"
    },
    {
     "data": {
      "text/plain": [
       "<Figure size 432x288 with 0 Axes>"
      ]
     },
     "metadata": {},
     "output_type": "display_data"
    }
   ],
   "source": [
    "# plotting top 20 most common words for positive dataset\n",
    "sns.set(font_scale = 3)\n",
    "plt.figure(figsize=(45,10))\n",
    "sns.countplot(all_text, order=pd.Series(all_text).value_counts().index[:20])\n",
    "plt.xticks(rotation=75)\n",
    "plt.show()\n",
    "plt.savefig(\"top 20 most common words for positive dataset\")\n",
    "\n",
    "\n"
   ]
  },
  {
   "cell_type": "code",
   "execution_count": 384,
   "metadata": {},
   "outputs": [],
   "source": [
    "# Processing negative dataset \n",
    "\n",
    "# converting to string\n",
    "neg['article_text'] = neg['article_text'].astype(str)\n",
    "\n",
    "# tokenizing text \n",
    "neg['tokenized'] = [tokenizer.tokenize(text) for text in neg['article_text']]  \n",
    "\n",
    "# lower-casing \n",
    "neg['tokenized'] = [lower_case(col) for col in neg['tokenized']]\n",
    "\n",
    "# removing stopwords\n",
    "neg['clean'] = [no_stopwords(col) for col in neg['tokenized']]\n",
    "\n",
    "# getting alpha characters only\n",
    "neg['clean'] = [alpha_only(tok) for tok in neg['clean']]\n",
    "\n",
    "# counting words\n",
    "neg['length'] = [len(text) for text in neg['clean']]\n",
    "\n",
    "# dumping all text together \n",
    "all_text_neg = []\n",
    "for text in neg['clean']:\n",
    "    for word in text:\n",
    "        all_text_neg.append(word)"
   ]
  },
  {
   "cell_type": "code",
   "execution_count": 385,
   "metadata": {},
   "outputs": [
    {
     "data": {
      "text/plain": [
       "[('coronavirus', 2320),\n",
       " ('people', 1292),\n",
       " ('said', 1237),\n",
       " ('de', 1226),\n",
       " ('new', 953),\n",
       " ('health', 887),\n",
       " ('covid', 836),\n",
       " ('audio', 760),\n",
       " ('one', 718),\n",
       " ('virus', 692),\n",
       " ('pandemic', 682),\n",
       " ('would', 639),\n",
       " ('la', 639),\n",
       " ('also', 631),\n",
       " ('us', 595),\n",
       " ('time', 591),\n",
       " ('like', 584),\n",
       " ('may', 572),\n",
       " ('trump', 553),\n",
       " ('world', 539)]"
      ]
     },
     "execution_count": 385,
     "metadata": {},
     "output_type": "execute_result"
    }
   ],
   "source": [
    "# most common words in negative corpus\n",
    "Counter(all_text_neg).most_common(20)"
   ]
  },
  {
   "cell_type": "code",
   "execution_count": 390,
   "metadata": {},
   "outputs": [
    {
     "data": {
      "image/png": "[encoded data removed]",
      "text/plain": [
       "<Figure size 3240x720 with 1 Axes>"
      ]
     },
     "metadata": {},
     "output_type": "display_data"
    },
    {
     "data": {
      "text/plain": [
       "<Figure size 432x288 with 0 Axes>"
      ]
     },
     "metadata": {},
     "output_type": "display_data"
    }
   ],
   "source": [
    "# plotting top 20 most common words for negative dataset\n",
    "sns.set(font_scale = 3)\n",
    "plt.figure(figsize=(45,10))\n",
    "sns.countplot(all_text_neg, order=pd.Series(all_text_neg).value_counts().index[:20])\n",
    "plt.xticks(rotation=75)\n",
    "plt.show()\n",
    "plt.savefig(\"top 20 most common words for negative dataset\")\n"
   ]
  },
  {
   "cell_type": "code",
   "execution_count": 387,
   "metadata": {},
   "outputs": [
    {
     "data": {
      "text/plain": [
       "count     8419.000000\n",
       "mean       843.517282\n",
       "std       1164.251556\n",
       "min          7.000000\n",
       "25%        303.000000\n",
       "50%        486.000000\n",
       "75%        864.000000\n",
       "max      12416.000000\n",
       "Name: length, dtype: float64"
      ]
     },
     "execution_count": 387,
     "metadata": {},
     "output_type": "execute_result"
    }
   ],
   "source": [
    "pos['length'].describe()"
   ]
  },
  {
   "cell_type": "code",
   "execution_count": null,
   "metadata": {},
   "outputs": [],
   "source": []
  }
 ],
 "metadata": {
  "kernelspec": {
   "display_name": "Python 3",
   "language": "python",
   "name": "python3"
  },
  "language_info": {
   "codemirror_mode": {
    "name": "ipython",
    "version": 3
   },
   "file_extension": ".py",
   "mimetype": "text/x-python",
   "name": "python",
   "nbconvert_exporter": "python",
   "pygments_lexer": "ipython3",
   "version": "3.6.9"
  }
 },
 "nbformat": 4,
 "nbformat_minor": 4
}
