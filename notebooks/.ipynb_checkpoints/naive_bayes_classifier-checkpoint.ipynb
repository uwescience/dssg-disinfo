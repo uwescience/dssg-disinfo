{
 "cells": [
  {
   "cell_type": "markdown",
   "metadata": {},
   "source": [
    "# Naive Bayes Model\n",
    "\n",
    "This code implements the naive bayes model:\n",
    "For this model, the dataset should start with negative articles then positive articles\n",
    "This is done to get an equal number of positive and negative artiles from the datatset "
   ]
  },
  {
   "cell_type": "code",
   "execution_count": 9,
   "metadata": {},
   "outputs": [],
   "source": [
    "# importing important packages\n",
    "import string\n",
    "\n",
    "import numpy as np\n",
    "import pandas as pd\n",
    "import matplotlib.pyplot as plt\n",
    "import seaborn as sns\n",
    "\n",
    "from nltk.tokenize import sent_tokenize, word_tokenize\n",
    "from nltk.stem.porter import PorterStemmer\n",
    "from sklearn.model_selection import train_test_split\n",
    "from sklearn.feature_extraction.text import CountVectorizer\n",
    "from sklearn.metrics import accuracy_score, precision_score, recall_score\n",
    "from sklearn.metrics import confusion_matrix\n",
    "from nltk.corpus import stopwords"
   ]
  },
  {
   "cell_type": "code",
   "execution_count": 10,
   "metadata": {},
   "outputs": [
    {
     "data": {
      "text/plain": [
       "<bound method NDFrame.head of      label                                       article_text\n",
       "0        0  An investigation into East Kent Hospitals’ mat...\n",
       "1        0  The coverage on this live blog has ended — but...\n",
       "2        0  Scammers are carrying out sextortion cybercrim...\n",
       "3        0  The \"CBS This Morning Podcast\" offers listener...\n",
       "4        0  Yamaha has always been know for tremendous val...\n",
       "..     ...                                                ...\n",
       "695      1  The coronavirus hit Chile at a particularly de...\n",
       "696      1  They say that truth is the first casualty in w...\n",
       "697      1  U.S. educators are allegedly on the take from ...\n",
       "698      1  Seniors With COVID-19 Show Unusual Symptoms, D...\n",
       "699      1  So far 2020 has had fires, the pandemic, murde...\n",
       "\n",
       "[700 rows x 2 columns]>"
      ]
     },
     "execution_count": 10,
     "metadata": {},
     "output_type": "execute_result"
    }
   ],
   "source": [
    "# importing data from csv file specifying 700 articles\n",
    "\n",
    "df = pd.read_csv(\"data/df_article_text.csv\", nrows = 700)\n",
    "\n",
    "df.head"
   ]
  },
  {
   "cell_type": "code",
   "execution_count": 12,
   "metadata": {},
   "outputs": [],
   "source": [
    "# split training data from testing data\n",
    "X_train, X_test, y_train, y_test = train_test_split(df['article_text'], df['label'], random_state=1)"
   ]
  },
  {
   "cell_type": "code",
   "execution_count": 13,
   "metadata": {},
   "outputs": [],
   "source": [
    "# converting word abstracts into word count vectors\n",
    "cv = CountVectorizer(strip_accents='ascii', token_pattern=u'(?ui)\\\\b\\\\w*[a-z]+\\\\w*\\\\b', lowercase=True, stop_words='english')\n",
    "X_train_cv = cv.fit_transform(X_train)\n",
    "X_test_cv = cv.transform(X_test)"
   ]
  },
  {
   "cell_type": "code",
   "execution_count": 14,
   "metadata": {},
   "outputs": [],
   "source": [
    "# fitting the naive bayes model and make predictions\n",
    "\n",
    "from sklearn.naive_bayes import MultinomialNB\n",
    "naive_bayes = MultinomialNB()\n",
    "naive_bayes.fit(X_train_cv, y_train)\n",
    "predictions = naive_bayes.predict(X_test_cv)"
   ]
  },
  {
   "cell_type": "code",
   "execution_count": 15,
   "metadata": {
    "scrolled": true
   },
   "outputs": [
    {
     "name": "stdout",
     "output_type": "stream",
     "text": [
      "Accuracy score:  0.8685714285714285\n",
      "Precision score:  0.8952380952380953\n",
      "Recall score:  0.8867924528301887\n"
     ]
    }
   ],
   "source": [
    "# checking performance results of the model\n",
    "\n",
    "print('Accuracy score: ', accuracy_score(y_test, predictions))\n",
    "print('Precision score: ', precision_score(y_test, predictions))\n",
    "print('Recall score: ', recall_score(y_test, predictions))"
   ]
  },
  {
   "cell_type": "code",
   "execution_count": 16,
   "metadata": {},
   "outputs": [
    {
     "data": {
      "text/plain": [
       "Text(91.68, 0.5, 'predicted label')"
      ]
     },
     "execution_count": 16,
     "metadata": {},
     "output_type": "execute_result"
    },
    {
     "data": {
      "image/png": "[encoded data removed]",
      "text/plain": [
       "<Figure size 432x288 with 1 Axes>"
      ]
     },
     "metadata": {
      "needs_background": "light"
     },
     "output_type": "display_data"
    }
   ],
   "source": [
    "# plotting results to visualize how predicted label compares to the true label\n",
    "\n",
    "cm = confusion_matrix(y_test, predictions)\n",
    "sns.heatmap(cm, square=True, annot=True, cmap='RdBu', cbar=False,\n",
    "xticklabels=['Negative', 'Positive'], yticklabels=['Negative', 'Positive'])\n",
    "plt.xlabel('true label')\n",
    "plt.ylabel('predicted label')"
   ]
  },
  {
   "cell_type": "code",
   "execution_count": 28,
   "metadata": {},
   "outputs": [
    {
     "name": "stdout",
     "output_type": "stream",
     "text": [
      "    actual_label prediction                                           abstract\n",
      "0       Positive   Positive  (Natural News) The news is stressing Americans...\n",
      "1       Positive   Positive  Thank you to our readers, commenters and suppo...\n",
      "2       Positive   Positive  We all suffer some form of professional bias. ...\n",
      "3       Positive   Positive  Chicago in “deep planning stages” of mass vacc...\n",
      "4       Positive   Negative  Voters in the three-county Portland, Oregon, m...\n",
      "..           ...        ...                                                ...\n",
      "170     Positive   Positive  Aangirfan Showing posts with label Fauci . Sho...\n",
      "171     Negative   Negative  We are publishing personal essays from CNN's g...\n",
      "172     Negative   Negative  Dr. Dave Campbell, Chief Medical Correspondent...\n",
      "173     Positive   Positive  A firefighter walks past a private hospice aft...\n",
      "174     Negative   Negative  Editor’s note: The Salt Lake Tribune is provid...\n",
      "\n",
      "[175 rows x 3 columns]\n"
     ]
    }
   ],
   "source": [
    "# print out the results of the model\n",
    "\n",
    "testing_predictions = []\n",
    "for i in range(len(X_test)):\n",
    "    if predictions[i] == 1:\n",
    "        testing_predictions.append('Positive')\n",
    "    else:\n",
    "        testing_predictions.append('Negative')\n",
    "check_df = pd.DataFrame({'actual_label': list(y_test), 'prediction': testing_predictions, 'abstract':list(X_test)})\n",
    "check_df.replace(to_replace=0, value='Negative', inplace=True)\n",
    "check_df.replace(to_replace=1, value='Positive', inplace=True)\n",
    "\n",
    "print(check_df)"
   ]
  },
  {
   "cell_type": "code",
   "execution_count": null,
   "metadata": {},
   "outputs": [],
   "source": []
  }
 ],
 "metadata": {
  "kernelspec": {
   "display_name": "Python 3",
   "language": "python",
   "name": "python3"
  },
  "language_info": {
   "codemirror_mode": {
    "name": "ipython",
    "version": 3
   },
   "file_extension": ".py",
   "mimetype": "text/x-python",
   "name": "python",
   "nbconvert_exporter": "python",
   "pygments_lexer": "ipython3",
   "version": "3.7.6"
  }
 },
 "nbformat": 4,
 "nbformat_minor": 4
}
