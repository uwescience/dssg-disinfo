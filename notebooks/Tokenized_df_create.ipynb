{
 "cells": [
  {
   "cell_type": "markdown",
   "metadata": {},
   "source": [
    "# Create new permanent tokenized dataframe on Tapas"
   ]
  },
  {
   "cell_type": "code",
   "execution_count": null,
   "metadata": {},
   "outputs": [],
   "source": [
    "! ls /data/dssg-disinfo/"
   ]
  },
  {
   "cell_type": "code",
   "execution_count": null,
   "metadata": {},
   "outputs": [],
   "source": [
    "import sys\n",
    "#sys.path.append('../src/preprocessing/')\n",
    "import pandas as pd\n",
    "\n",
    "import make_tokens_column"
   ]
  },
  {
   "cell_type": "code",
   "execution_count": 3,
   "metadata": {},
   "outputs": [],
   "source": [
    "# Import packages\n",
    "import os\n",
    "import sys\n",
    "\n",
    "import pandas as pd\n",
    "import re as re\n",
    "import nltk as nltk\n",
    "from nltk.corpus import stopwords\n",
    "from nltk.tokenize import word_tokenize\n",
    "from nltk.tokenize import RegexpTokenizer\n",
    "import plotly as iplot\n",
    "\n",
    "#import matplotlib as plt\n",
    "import matplotlib.pyplot as plt\n",
    "import numpy as np\n",
    "from scipy import stats\n",
    "from collections import Counter\n",
    "#from langdetect import detect\n",
    "\n",
    "from keras.preprocessing.text import Tokenizer\n",
    "from keras.preprocessing.sequence import pad_sequences\n",
    "from keras.models import Sequential\n",
    "from keras.layers import LSTM, Dense, Dropout, Masking, Embedding\n",
    "import keras\n",
    "\n",
    "from sklearn.model_selection import train_test_split\n",
    "\n",
    "import numpy as np\n",
    "from scipy import spatial\n",
    "import matplotlib.pyplot as plt\n",
    "from sklearn.manifold import TSNE"
   ]
  },
  {
   "cell_type": "code",
   "execution_count": 13,
   "metadata": {},
   "outputs": [],
   "source": [
    "# Get working directory\n",
    "os.getcwd()\n",
    "# Set data path\n",
    "data_path='/data/dssg-disinfo/'"
   ]
  },
  {
   "cell_type": "code",
   "execution_count": 14,
   "metadata": {},
   "outputs": [],
   "source": [
    "#print(data_path) #Use this to check path is correct\n",
    "df= pd.read_csv(data_path+'articles_v3.csv', sep=',')"
   ]
  },
  {
   "cell_type": "code",
   "execution_count": 15,
   "metadata": {},
   "outputs": [],
   "source": [
    "df= make_tokens_column.tokenize_by_column(df,'article_text')"
   ]
  },
  {
   "cell_type": "code",
   "execution_count": 16,
   "metadata": {},
   "outputs": [
    {
     "data": {
      "text/html": [
       "<div>\n",
       "<style scoped>\n",
       "    .dataframe tbody tr th:only-of-type {\n",
       "        vertical-align: middle;\n",
       "    }\n",
       "\n",
       "    .dataframe tbody tr th {\n",
       "        vertical-align: top;\n",
       "    }\n",
       "\n",
       "    .dataframe thead th {\n",
       "        text-align: right;\n",
       "    }\n",
       "</style>\n",
       "<table border=\"1\" class=\"dataframe\">\n",
       "  <thead>\n",
       "    <tr style=\"text-align: right;\">\n",
       "      <th></th>\n",
       "      <th>article_pk</th>\n",
       "      <th>domain_pk</th>\n",
       "      <th>domain_name</th>\n",
       "      <th>article_url</th>\n",
       "      <th>label</th>\n",
       "      <th>article_headline</th>\n",
       "      <th>article_text</th>\n",
       "      <th>publish_date</th>\n",
       "      <th>tokenized_article_text</th>\n",
       "    </tr>\n",
       "  </thead>\n",
       "  <tbody>\n",
       "    <tr>\n",
       "      <th>0</th>\n",
       "      <td>67608582</td>\n",
       "      <td>4004</td>\n",
       "      <td>madashellnews.com</td>\n",
       "      <td>http://madashellnews.com/?p=18792</td>\n",
       "      <td>1</td>\n",
       "      <td>NaN</td>\n",
       "      <td>MAD AS HELL NEWS.COM Search Search for: COMMUN...</td>\n",
       "      <td>2020-06-25T09:58:17.293Z</td>\n",
       "      <td>[MAD, AS, HELL, NEWS, COM, Search, Search, for...</td>\n",
       "    </tr>\n",
       "    <tr>\n",
       "      <th>1</th>\n",
       "      <td>67043336</td>\n",
       "      <td>309</td>\n",
       "      <td>infowars.com</td>\n",
       "      <td>https://www.infowars.com/nascar-racer-caught-l...</td>\n",
       "      <td>1</td>\n",
       "      <td>Nascar Racer Caught Lying About “Noose”: Bulls...</td>\n",
       "      <td>An FBI investigation has revealed NASCAR racer...</td>\n",
       "      <td>2020-06-23T22:47:09Z</td>\n",
       "      <td>[An, FBI, investigation, has, revealed, NASCAR...</td>\n",
       "    </tr>\n",
       "    <tr>\n",
       "      <th>2</th>\n",
       "      <td>67043343</td>\n",
       "      <td>309</td>\n",
       "      <td>infowars.com</td>\n",
       "      <td>https://www.infowars.com/the-views-joy-behar-m...</td>\n",
       "      <td>1</td>\n",
       "      <td>The View’s Joy Behar: Me &amp; Husband “Drive Arou...</td>\n",
       "      <td>The View co-host Joy Behar admitted coronaviru...</td>\n",
       "      <td>2020-06-23T22:42:50Z</td>\n",
       "      <td>[The, View, co, host, Joy, Behar, admitted, co...</td>\n",
       "    </tr>\n",
       "    <tr>\n",
       "      <th>3</th>\n",
       "      <td>70303763</td>\n",
       "      <td>117</td>\n",
       "      <td>breitbart.com</td>\n",
       "      <td>https://www.breitbart.com/politics/2020/06/28/...</td>\n",
       "      <td>1</td>\n",
       "      <td>Sacha Baron Cohen Infiltrates Gun Rights Rally...</td>\n",
       "      <td>Actor Sacha Baron Cohen infiltrated a pro-gun ...</td>\n",
       "      <td>2020-06-28T00:00:00Z</td>\n",
       "      <td>[Actor, Sacha, Baron, Cohen, infiltrated, a, p...</td>\n",
       "    </tr>\n",
       "    <tr>\n",
       "      <th>4</th>\n",
       "      <td>69337110</td>\n",
       "      <td>59725</td>\n",
       "      <td>https://uprootedpalestinians.wordpress.com</td>\n",
       "      <td>http://uprootedpalestinians.wordpress.com/?p=4...</td>\n",
       "      <td>1</td>\n",
       "      <td>SALAM ALQUDS ALAYKUM – سلام القدس عليكم</td>\n",
       "      <td>Posted on by martyrashrakat  June 26, 2020  Su...</td>\n",
       "      <td>2020-06-27T15:22:47Z</td>\n",
       "      <td>[Posted, on, by, martyrashrakat, June, 26, 202...</td>\n",
       "    </tr>\n",
       "  </tbody>\n",
       "</table>\n",
       "</div>"
      ],
      "text/plain": [
       "   article_pk  domain_pk                                 domain_name  \\\n",
       "0    67608582       4004                           madashellnews.com   \n",
       "1    67043336        309                                infowars.com   \n",
       "2    67043343        309                                infowars.com   \n",
       "3    70303763        117                               breitbart.com   \n",
       "4    69337110      59725  https://uprootedpalestinians.wordpress.com   \n",
       "\n",
       "                                         article_url  label  \\\n",
       "0                  http://madashellnews.com/?p=18792      1   \n",
       "1  https://www.infowars.com/nascar-racer-caught-l...      1   \n",
       "2  https://www.infowars.com/the-views-joy-behar-m...      1   \n",
       "3  https://www.breitbart.com/politics/2020/06/28/...      1   \n",
       "4  http://uprootedpalestinians.wordpress.com/?p=4...      1   \n",
       "\n",
       "                                    article_headline  \\\n",
       "0                                                NaN   \n",
       "1  Nascar Racer Caught Lying About “Noose”: Bulls...   \n",
       "2  The View’s Joy Behar: Me & Husband “Drive Arou...   \n",
       "3  Sacha Baron Cohen Infiltrates Gun Rights Rally...   \n",
       "4            SALAM ALQUDS ALAYKUM – سلام القدس عليكم   \n",
       "\n",
       "                                        article_text  \\\n",
       "0  MAD AS HELL NEWS.COM Search Search for: COMMUN...   \n",
       "1  An FBI investigation has revealed NASCAR racer...   \n",
       "2  The View co-host Joy Behar admitted coronaviru...   \n",
       "3  Actor Sacha Baron Cohen infiltrated a pro-gun ...   \n",
       "4  Posted on by martyrashrakat  June 26, 2020  Su...   \n",
       "\n",
       "               publish_date                             tokenized_article_text  \n",
       "0  2020-06-25T09:58:17.293Z  [MAD, AS, HELL, NEWS, COM, Search, Search, for...  \n",
       "1      2020-06-23T22:47:09Z  [An, FBI, investigation, has, revealed, NASCAR...  \n",
       "2      2020-06-23T22:42:50Z  [The, View, co, host, Joy, Behar, admitted, co...  \n",
       "3      2020-06-28T00:00:00Z  [Actor, Sacha, Baron, Cohen, infiltrated, a, p...  \n",
       "4      2020-06-27T15:22:47Z  [Posted, on, by, martyrashrakat, June, 26, 202...  "
      ]
     },
     "execution_count": 16,
     "metadata": {},
     "output_type": "execute_result"
    }
   ],
   "source": [
    "df.head()"
   ]
  },
  {
   "cell_type": "code",
   "execution_count": 17,
   "metadata": {},
   "outputs": [],
   "source": [
    " # Export clean data\n",
    "df.to_csv(data_path+'articles_tokenized_v3.csv', index=False)"
   ]
  },
  {
   "cell_type": "code",
   "execution_count": 18,
   "metadata": {},
   "outputs": [
    {
     "name": "stdout",
     "output_type": "stream",
     "text": [
      "articles_tokenized_v3.csv  glove.tgz\t\t     positive_articles.csv\n",
      "articles_v3.csv\t\t   negative_articles.csv     positive_articles_v3.csv\n",
      "glove.6B.300d.txt\t   negative_articles_v3.csv\n"
     ]
    }
   ],
   "source": [
    "! ls /data/dssg-disinfo/"
   ]
  }
 ],
 "metadata": {
  "kernelspec": {
   "display_name": "dssg",
   "language": "python",
   "name": "dssg"
  },
  "language_info": {
   "codemirror_mode": {
    "name": "ipython",
    "version": 3
   },
   "file_extension": ".py",
   "mimetype": "text/x-python",
   "name": "python",
   "nbconvert_exporter": "python",
   "pygments_lexer": "ipython3",
   "version": "3.7.7"
  }
 },
 "nbformat": 4,
 "nbformat_minor": 4
}
