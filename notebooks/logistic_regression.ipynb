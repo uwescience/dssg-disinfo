{
 "cells": [
  {
   "cell_type": "markdown",
   "metadata": {},
   "source": [
    "# Welcome!\n",
    "## Pay attention to the headings and comments"
   ]
  },
  {
   "cell_type": "code",
   "execution_count": 6,
   "metadata": {},
   "outputs": [],
   "source": [
    "# https://www.dataquest.io/blog/tutorial-text-classification-in-python-using-spacy/\n",
    "from sklearn.feature_extraction.text import CountVectorizer,TfidfVectorizer\n",
    "from sklearn.linear_model import LogisticRegression\n",
    "from sklearn.pipeline import Pipeline\n",
    "from sklearn.model_selection import train_test_split\n",
    "from sklearn.metrics import roc_curve\n",
    "from sklearn.metrics import roc_auc_score\n",
    "import matplotlib.pyplot as plt\n",
    "from sklearn import metrics\n",
    "from spacy.tokenizer import Tokenizer\n",
    "import string\n",
    "from spacy.lang.en import English\n",
    "import gensim\n",
    "# Load the environment file where paths to data are stored.\n",
    "from dotenv import load_dotenv\n",
    "from pathlib import Path  # Python 3.6+ only\n",
    "import os\n",
    "import pandas as pd\n",
    "import spacy\n",
    "import numpy as np\n",
    "pd.set_option('display.max_colwidth', None)\n",
    "env_path = '/data/dssg-disinfo/.env'\n",
    "load_dotenv(env_path, override=True)\n",
    "# settings.py\n",
    "PATH = os.getenv(\"PATH\")\n",
    "COLUMN = 'article_pk'\n",
    "CLEAN_DATA = os.getenv(\"CLEAN_DATA\")\n",
    "# Read in the data\n",
    "df = pd.read_csv(os.path.join(PATH,CLEAN_DATA))\n",
    "# Do this in the terminal- python -m spacy download en_vectors_web_lg\n",
    "nlp = spacy.load('en_vectors_web_lg')"
   ]
  },
  {
   "cell_type": "markdown",
   "metadata": {},
   "source": [
    "## Clean the articles"
   ]
  },
  {
   "cell_type": "code",
   "execution_count": 7,
   "metadata": {},
   "outputs": [],
   "source": [
    "punctuations = string.punctuation\n",
    "stop_words = spacy.lang.en.stop_words.STOP_WORDS.union(['embd_html'])\n",
    "# Initialize an empty tokenizer\n",
    "tokenizer = Tokenizer(nlp.vocab)\n",
    "\n",
    "cleaned_articles = []\n",
    "\n",
    "for article in df.article_text:\n",
    "    tokens = tokenizer(article)\n",
    "    tokens = [word.lower_ for word in tokens]\n",
    "    tokens = [word for word in tokens if word not in punctuations]\n",
    "    tokens = [word for word in tokens if word not in stop_words]\n",
    "    article = ' '.join(tokens)\n",
    "    cleaned_articles.append(article)"
   ]
  },
  {
   "cell_type": "markdown",
   "metadata": {},
   "source": [
    "## Logistic Regression with Word Embeddings"
   ]
  },
  {
   "cell_type": "code",
   "execution_count": 10,
   "metadata": {},
   "outputs": [],
   "source": [
    "# this is the step that creates the word embeddings\n",
    "X = np.asarray([nlp(article).vector for article in cleaned_articles]) #(28413, 300)\n",
    "## X = np.asarray([nlp(article).vector for article in df.article_text])\n",
    "# (28413, 300)\n",
    "y = df.label\n",
    "\n",
    "X_train, X_test, y_train, y_test = train_test_split(X, y, random_state = 42)"
   ]
  },
  {
   "cell_type": "code",
   "execution_count": null,
   "metadata": {},
   "outputs": [],
   "source": [
    "X.shape"
   ]
  },
  {
   "cell_type": "code",
   "execution_count": 12,
   "metadata": {},
   "outputs": [
    {
     "name": "stdout",
     "output_type": "stream",
     "text": [
      "Logistic Regression Accuracy: 0.9073761261261262\n",
      "Logistic Regression Precision: 0.8680033416875522\n",
      "Logistic Regression Recall: 0.8586776859504133\n",
      "Logistic Regression F1 Score: 0.863315330286664\n",
      "roc_auc_score for Logistic Regression:  0.9670349563486742\n"
     ]
    },
    {
     "data": {
      "image/png": "[encoded data removed]",
      "text/plain": [
       "<Figure size 720x720 with 1 Axes>"
      ]
     },
     "metadata": {
      "needs_background": "light"
     },
     "output_type": "display_data"
    }
   ],
   "source": [
    "# Logistic Regression Classifier\n",
    "\n",
    "# Initiating the model\n",
    "lr = LogisticRegression(max_iter = 200)\n",
    "\n",
    "# model generation\n",
    "lr.fit(X_train,y_train)\n",
    "\n",
    "# Predicting with a test dataset\n",
    "predicted = lr.predict(X_test)\n",
    "\n",
    "# Model Accuracy\n",
    "print(\"Logistic Regression Accuracy:\",metrics.accuracy_score(y_test, predicted))\n",
    "print(\"Logistic Regression Precision:\",metrics.precision_score(y_test, predicted))\n",
    "print(\"Logistic Regression Recall:\",metrics.recall_score(y_test, predicted))\n",
    "print(\"Logistic Regression F1 Score:\", metrics.f1_score(y_test, predicted))\n",
    "\n",
    "# Get predicted probabilities\n",
    "y_score = lr.predict_proba(X_test)[:,1]\n",
    "\n",
    "# Plot Receiving Operating Characteristic Curve\n",
    "# Create true and false positive rates\n",
    "false_positive_rate, true_positive_rate, threshold = roc_curve(y_test, y_score)\n",
    "\n",
    "print('roc_auc_score for Logistic Regression: ', roc_auc_score(y_test, y_score))\n",
    "\n",
    "# Plot ROC curves\n",
    "plt.subplots(1, figsize=(10,10))\n",
    "plt.title('Receiver Operating Characteristic - Logistic Regression (GloVe)')\n",
    "plt.plot(false_positive_rate, true_positive_rate)\n",
    "plt.plot([0, 1], ls=\"--\")\n",
    "plt.plot([0, 0], [1, 0] , c=\".7\"), plt.plot([1, 1] , c=\".7\")\n",
    "plt.ylabel('True Positive Rate')\n",
    "plt.xlabel('False Positive Rate')\n",
    "plt.show()"
   ]
  },
  {
   "cell_type": "markdown",
   "metadata": {},
   "source": [
    "## Logistic Regression- Word Embeddings- FastText- UW Data"
   ]
  },
  {
   "cell_type": "code",
   "execution_count": 8,
   "metadata": {},
   "outputs": [],
   "source": [
    "fasttext_model = gensim.models.Word2Vec.load(os.path.join(PATH, \"word-embeddings/fasttext_300d_embeddings.wv\"))\n",
    "\n",
    "X = np.asarray([fasttext_model.wv[article] for article in cleaned_articles]) #(28413, 300)\n",
    "y = df.label\n",
    "\n",
    "X_train, X_test, y_train, y_test = train_test_split(X, y, random_state = 42)"
   ]
  },
  {
   "cell_type": "code",
   "execution_count": null,
   "metadata": {},
   "outputs": [],
   "source": []
  },
  {
   "cell_type": "code",
   "execution_count": 9,
   "metadata": {},
   "outputs": [
    {
     "name": "stderr",
     "output_type": "stream",
     "text": [
      "/home/richa/.conda/envs/dssg/lib/python3.7/site-packages/sklearn/linear_model/_logistic.py:764: ConvergenceWarning: lbfgs failed to converge (status=1):\n",
      "STOP: TOTAL NO. of ITERATIONS REACHED LIMIT.\n",
      "\n",
      "Increase the number of iterations (max_iter) or scale the data as shown in:\n",
      "    https://scikit-learn.org/stable/modules/preprocessing.html\n",
      "Please also refer to the documentation for alternative solver options:\n",
      "    https://scikit-learn.org/stable/modules/linear_model.html#logistic-regression\n",
      "  extra_warning_msg=_LOGISTIC_SOLVER_CONVERGENCE_MSG)\n"
     ]
    },
    {
     "name": "stdout",
     "output_type": "stream",
     "text": [
      "Logistic Regression Accuracy: 0.9016047297297297\n",
      "Logistic Regression Precision: 0.8653927813163482\n",
      "Logistic Regression Recall: 0.8421487603305785\n",
      "Logistic Regression F1 Score: 0.8536125654450261\n",
      "roc_auc_score for Logistic Regression:  0.9611639059643874\n"
     ]
    },
    {
     "data": {
      "image/png": "[encoded data removed]",
      "text/plain": [
       "<Figure size 720x720 with 1 Axes>"
      ]
     },
     "metadata": {
      "needs_background": "light"
     },
     "output_type": "display_data"
    }
   ],
   "source": [
    "# Logistic Regression Classifier\n",
    "\n",
    "# Initiating the model\n",
    "lr = LogisticRegression(max_iter = 200)\n",
    "\n",
    "# model generation\n",
    "lr.fit(X_train,y_train)\n",
    "\n",
    "# Predicting with a test dataset\n",
    "predicted = lr.predict(X_test)\n",
    "\n",
    "# Model Accuracy\n",
    "print(\"Logistic Regression Accuracy:\",metrics.accuracy_score(y_test, predicted))\n",
    "print(\"Logistic Regression Precision:\",metrics.precision_score(y_test, predicted))\n",
    "print(\"Logistic Regression Recall:\",metrics.recall_score(y_test, predicted))\n",
    "print(\"Logistic Regression F1 Score:\", metrics.f1_score(y_test, predicted))\n",
    "\n",
    "# Get predicted probabilities\n",
    "y_score = lr.predict_proba(X_test)[:,1]\n",
    "\n",
    "# Plot Receiving Operating Characteristic Curve\n",
    "# Create true and false positive rates\n",
    "false_positive_rate, true_positive_rate, threshold = roc_curve(y_test, y_score)\n",
    "\n",
    "print('roc_auc_score for Logistic Regression: ', roc_auc_score(y_test, y_score))\n",
    "\n",
    "# Plot ROC curves\n",
    "plt.subplots(1, figsize=(10,10))\n",
    "plt.title('Receiver Operating Characteristic - Logistic Regression (GloVe)')\n",
    "plt.plot(false_positive_rate, true_positive_rate)\n",
    "plt.plot([0, 1], ls=\"--\")\n",
    "plt.plot([0, 0], [1, 0] , c=\".7\"), plt.plot([1, 1] , c=\".7\")\n",
    "plt.ylabel('True Positive Rate')\n",
    "plt.xlabel('False Positive Rate')\n",
    "plt.show()"
   ]
  },
  {
   "cell_type": "markdown",
   "metadata": {},
   "source": [
    "## Tokenizer"
   ]
  },
  {
   "cell_type": "code",
   "execution_count": null,
   "metadata": {},
   "outputs": [],
   "source": [
    "# this is the customized tokenizer for Vectorizer function\n",
    "\n",
    "# Create our list of punctuation marks\n",
    "punctuations = string.punctuation\n",
    "# Create our list of stopwords\n",
    "stop_words = spacy.lang.en.stop_words.STOP_WORDS\n",
    "\n",
    "# Load English tokenizer, tagger, parser, NER and word vectors\n",
    "parser = English()\n",
    "\n",
    "# Creating our tokenizer function\n",
    "def spacy_tokenizer(sentence):\n",
    "    # Creating our token object, which is used to create documents with linguistic annotations.\n",
    "    mytokens = parser(sentence)\n",
    "    # Lemmatizing each token and converting each token into lowercase\n",
    "    mytokens = [ word.lower_ for word in mytokens]\n",
    "    mytokens = [word for word in mytokens if word not in punctuations]\n",
    "    # return preprocessed list of tokens\n",
    "    return mytokens\n",
    "\n",
    "# Tokenizer for removing stopwords\n",
    "def spacy_tokenizer_remove_stopwords(sentence):\n",
    "    # Creating our token object, which is used to create documents with linguistic annotations.\n",
    "    mytokens = parser(sentence)\n",
    "    # Removing stop words\n",
    "    mytokens = [ word.lower_ for word in mytokens]\n",
    "    mytokens = [ word for word in mytokens if word not in stop_words and word not in punctuations ]\n",
    "    # return preprocessed list of tokens\n",
    "    return mytokens"
   ]
  },
  {
   "cell_type": "markdown",
   "metadata": {},
   "source": [
    "## Logistic Regression with Count Vectorizer"
   ]
  },
  {
   "cell_type": "code",
   "execution_count": null,
   "metadata": {},
   "outputs": [],
   "source": [
    "X_train1, X_test1, y_train1, y_test1 = train_test_split(df.article_text, df.label, random_state = 42)\n",
    "\n",
    "# Create pipeline using Bag of Words\n",
    "pipe = Pipeline([('vectorizer', CountVectorizer(tokenizer=spacy_tokenizer,ngram_range=(1,1))),\n",
    "                 ('classifier', LogisticRegression(max_iter = 200)\n",
    ")])\n",
    "\n",
    "# model generation\n",
    "pipe.fit(X_train1,y_train1)\n",
    "\n",
    "# Predicting with a test dataset\n",
    "predicted1 = pipe.predict(X_test1)\n",
    "\n",
    "# Model Accuracy\n",
    "print(\"Logistic Regression Accuracy:\",metrics.accuracy_score(y_test1, predicted1))\n",
    "print(\"Logistic Regression Precision:\",metrics.precision_score(y_test1, predicted1))\n",
    "print(\"Logistic Regression Recall:\",metrics.recall_score(y_test1, predicted1))\n",
    "\n",
    "# Get predicted probabilities\n",
    "y_score1 = pipe.predict_proba(X_test1)[:,1]\n",
    "\n",
    "# Plot Receiving Operating Characteristic Curve\n",
    "# Create true and false positive rates\n",
    "false_positive_rate1, true_positive_rate1, threshold1 = roc_curve(y_test1, y_score1)\n",
    "\n",
    "print('roc_auc_score for Logistic Regression: ', roc_auc_score(y_test1, y_score1))\n",
    "\n",
    "# Plot ROC curves\n",
    "plt.subplots(1, figsize=(10,10))\n",
    "plt.title('Receiver Operating Characteristic - Logistic Regression (Count Vectorizer)')\n",
    "plt.plot(false_positive_rate1, true_positive_rate1)\n",
    "plt.plot([0, 1], ls=\"--\")\n",
    "plt.plot([0, 0], [1, 0] , c=\".7\"), plt.plot([1, 1] , c=\".7\")\n",
    "plt.ylabel('True Positive Rate')\n",
    "plt.xlabel('False Positive Rate')\n",
    "plt.show()"
   ]
  },
  {
   "cell_type": "markdown",
   "metadata": {},
   "source": [
    "## Logistic Regression Count Vectorizer \n",
    "Removing Stopwords"
   ]
  },
  {
   "cell_type": "code",
   "execution_count": null,
   "metadata": {},
   "outputs": [],
   "source": [
    "tfidf = TfidfVectorizer(tokenizer=spacy_tokenizer,ngram_range=(1,1))\n",
    "\n",
    "# Create pipeline using Bag of Words\n",
    "pipe = Pipeline([('vectorizer', CountVectorizer(tokenizer=spacy_tokenizer_remove_stopwords,ngram_range=(1,1))),\n",
    "                 ('classifier', LogisticRegression(max_iter = 200)\n",
    ")])\n",
    "\n",
    "# model generation\n",
    "pipe.fit(X_train1,y_train1)\n",
    "\n",
    "# Predicting with a test dataset\n",
    "predicted1 = pipe.predict(X_test1)\n",
    "\n",
    "# Model Accuracy\n",
    "print(\"Logistic Regression Accuracy:\",metrics.accuracy_score(y_test1, predicted1))\n",
    "print(\"Logistic Regression Precision:\",metrics.precision_score(y_test1, predicted1))\n",
    "print(\"Logistic Regression Recall:\",metrics.recall_score(y_test1, predicted1))\n",
    "\n",
    "# Get predicted probabilities\n",
    "y_score1 = pipe.predict_proba(X_test1)[:,1]\n",
    "\n",
    "# Plot Receiving Operating Characteristic Curve\n",
    "# Create true and false positive rates\n",
    "false_positive_rate1, true_positive_rate1, threshold1 = roc_curve(y_test1, y_score1)\n",
    "\n",
    "print('roc_auc_score for Logistic Regression: ', roc_auc_score(y_test1, y_score1))\n",
    "\n",
    "# Plot ROC curves\n",
    "plt.subplots(1, figsize=(10,10))\n",
    "plt.title('Receiver Operating Characteristic - Logistic Regression (Count Vectorizer, no stopwords)')\n",
    "plt.plot(false_positive_rate1, true_positive_rate1)\n",
    "plt.plot([0, 1], ls=\"--\")\n",
    "plt.plot([0, 0], [1, 0] , c=\".7\"), plt.plot([1, 1] , c=\".7\")\n",
    "plt.ylabel('True Positive Rate')\n",
    "plt.xlabel('False Positive Rate')\n",
    "plt.show()"
   ]
  },
  {
   "cell_type": "markdown",
   "metadata": {},
   "source": [
    "## Logistic Regression with TfIdf"
   ]
  },
  {
   "cell_type": "code",
   "execution_count": null,
   "metadata": {},
   "outputs": [],
   "source": [
    "# Create pipeline using Bag of Words\n",
    "pipe_tfidf = Pipeline([('vectorizer', TfidfVectorizer(tokenizer=spacy_tokenizer,ngram_range=(1,1))),\n",
    "                 ('classifier', LogisticRegression(max_iter = 200)\n",
    ")])\n",
    "\n",
    "# model generation\n",
    "pipe_tfidf.fit(X_train1,y_train1)\n",
    "\n",
    "# Predicting with a test dataset\n",
    "predicted2 = pipe_tfidf.predict(X_test1)\n",
    "\n",
    "# Model Accuracy\n",
    "print(\"Logistic Regression Accuracy:\",metrics.accuracy_score(y_test1, predicted2))\n",
    "print(\"Logistic Regression Precision:\",metrics.precision_score(y_test1, predicted2))\n",
    "print(\"Logistic Regression Recall:\",metrics.recall_score(y_test1, predicted2))\n",
    "\n",
    "# Get predicted probabilities\n",
    "y_score2 = pipe_tfidf.predict_proba(X_test1)[:,1]\n",
    "\n",
    "# Plot Receiving Operating Characteristic Curve\n",
    "# Create true and false positive rates\n",
    "false_positive_rate2, true_positive_rate2, threshold2 = roc_curve(y_test1, y_score2)\n",
    "\n",
    "print('roc_auc_score for Logistic Regression: ', roc_auc_score(y_test1, y_score2))\n",
    "\n",
    "# Plot ROC curves\n",
    "plt.subplots(1, figsize=(10,10))\n",
    "plt.title('Receiver Operating Characteristic - Logistic Regression (Tf-Idf)')\n",
    "plt.plot(false_positive_rate2, true_positive_rate2)\n",
    "plt.plot([0, 1], ls=\"--\")\n",
    "plt.plot([0, 0], [1, 0] , c=\".7\"), plt.plot([1, 1] , c=\".7\")\n",
    "plt.ylabel('True Positive Rate')\n",
    "plt.xlabel('False Positive Rate')\n",
    "plt.show()"
   ]
  },
  {
   "cell_type": "markdown",
   "metadata": {},
   "source": [
    "## Logistic Regression- TfIdf\n",
    "removing stopwords"
   ]
  },
  {
   "cell_type": "code",
   "execution_count": null,
   "metadata": {},
   "outputs": [],
   "source": [
    "# Create pipeline using Bag of Words\n",
    "pipe_tfidf = Pipeline([('vectorizer', TfidfVectorizer(tokenizer=spacy_tokenizer_remove_stopwords,ngram_range=(1,1))),\n",
    "                 ('classifier', LogisticRegression(max_iter = 200)\n",
    ")])\n",
    "\n",
    "# model generation\n",
    "pipe_tfidf.fit(X_train1,y_train1)\n",
    "\n",
    "# Predicting with a test dataset\n",
    "predicted2 = pipe_tfidf.predict(X_test1)\n",
    "\n",
    "# Model Accuracy\n",
    "print(\"Logistic Regression Accuracy:\",metrics.accuracy_score(y_test1, predicted2))\n",
    "print(\"Logistic Regression Precision:\",metrics.precision_score(y_test1, predicted2))\n",
    "print(\"Logistic Regression Recall:\",metrics.recall_score(y_test1, predicted2))\n",
    "\n",
    "# Get predicted probabilities\n",
    "y_score2 = pipe_tfidf.predict_proba(X_test1)[:,1]\n",
    "\n",
    "# Plot Receiving Operating Characteristic Curve\n",
    "# Create true and false positive rates\n",
    "false_positive_rate2, true_positive_rate2, threshold2 = roc_curve(y_test1, y_score2)\n",
    "\n",
    "print('roc_auc_score for Logistic Regression: ', roc_auc_score(y_test1, y_score2))\n",
    "\n",
    "# Plot ROC curves\n",
    "plt.subplots(1, figsize=(10,10))\n",
    "plt.title('Receiver Operating Characteristic - Logistic Regression (Tf-Idf, no stopwords)')\n",
    "plt.plot(false_positive_rate2, true_positive_rate2)\n",
    "plt.plot([0, 1], ls=\"--\")\n",
    "plt.plot([0, 0], [1, 0] , c=\".7\"), plt.plot([1, 1] , c=\".7\")\n",
    "plt.ylabel('True Positive Rate')\n",
    "plt.xlabel('False Positive Rate')\n",
    "plt.show()"
   ]
  },
  {
   "cell_type": "markdown",
   "metadata": {},
   "source": [
    "## Visualising vectors\n",
    "This is connected to visualising word vector stuff!"
   ]
  },
  {
   "cell_type": "code",
   "execution_count": null,
   "metadata": {},
   "outputs": [],
   "source": [
    "def display_closestwords_tsnescatterplot(model, word, size):\n",
    "    arr = np.empty((0,200), dtype='f') \n",
    "    word_labels = [word]\n",
    "\n",
    "    close_words = model.similar_by_word(word)\n",
    "    arr = np.append(arr, np.array([model[word]]), axis=0)\n",
    "    \n",
    "    for wrd_score in close_words:\n",
    "        wrd_vector = model[wrd_score[0]]\n",
    "        word_labels.append(wrd_score[0])\n",
    "        arr = np.append(arr, np.array([wrd_vector]), axis=0)\n",
    "\n",
    "        tsne = TSNE(n_components=2, random_state=0)\n",
    "        np.set_printoptions(suppress=True)\n",
    "        Y = tsne.fit_transform(arr)\n",
    "    \n",
    "    x_coords = Y[:, 0]\n",
    "    y_coords = Y[:, 1]\n",
    "    plt.scatter(x_coords, y_coords)\n",
    "    for label, x, y in zip(word_labels, x_coords, y_coords):\n",
    "        plt.annotate(label, xy=(x, y), xytext=(0, 0), textcoords='offset points')\n",
    "    plt.xlim(x_coords.min()+0.00005, x_coords.max()+0.00005)\n",
    "    plt.ylim(y_coords.min()+0.00005, y_coords.max()+0.00005)\n",
    "    plt.show()\n",
    "\n",
    "word = \"virus\"\n",
    "#model = Word2Vec(tokenized_list, min_count=10,size= 200,workers=3, window =3, sg = 1)\n",
    "#model = np.asarray([nlp(article).vector for article in df.article_text])\n",
    "model = X\n",
    "display_closestwords_tsnescatterplot(model, word, 100)"
   ]
  },
  {
   "cell_type": "code",
   "execution_count": null,
   "metadata": {},
   "outputs": [],
   "source": [
    "nlp('virus').vector\n",
    "import matplotlib.pyplot as plt\n",
    "plt.bar(range(300), nlp('virus').vector)\n",
    "plt.show()"
   ]
  },
  {
   "cell_type": "code",
   "execution_count": null,
   "metadata": {},
   "outputs": [],
   "source": [
    "def scatter_plot(distances, indices):\n",
    "    x_coords = np.squeeze(indices)\n",
    "    y_coords = np.squeeze(distances)\n",
    "    plt.scatter(x_coords, y_coords)\n",
    "    for label, x, y in zip(np.squeeze(indices), x_coords, y_coords):\n",
    "        plt.annotate(label, xy=(x, y), xytext=(0, 0), textcoords='offset points')\n",
    "    plt.xlim(x_coords.min()+0.00005, x_coords.max()+0.00005)\n",
    "    plt.ylim(y_coords.min()+0.00005, y_coords.max()+0.00005)\n",
    "    plt.title('10 most similar articles to the Article')\n",
    "    plt.ylabel('Distance (minkowski)')\n",
    "    plt.xlabel('Article index')\n",
    "    plt.show()"
   ]
  },
  {
   "cell_type": "code",
   "execution_count": null,
   "metadata": {},
   "outputs": [],
   "source": [
    "from sklearn.neighbors import NearestNeighbors\n",
    "NUMBER_OF_NEIGHBORS = 10\n",
    "nn = NearestNeighbors(n_neighbors=NUMBER_OF_NEIGHBORS)\n",
    "nn.fit(X)\n",
    "distances, indices = nn.kneighbors([X[0]])\n",
    "scatter_plot(distances, indices)\n",
    "#np.squeeze(distances).shape"
   ]
  },
  {
   "cell_type": "code",
   "execution_count": null,
   "metadata": {},
   "outputs": [],
   "source": []
  },
  {
   "cell_type": "code",
   "execution_count": null,
   "metadata": {},
   "outputs": [],
   "source": [
    "distances, indices = nn.kneighbors([X[4847]])\n",
    "scatter_plot(distances, indices)"
   ]
  },
  {
   "cell_type": "code",
   "execution_count": null,
   "metadata": {},
   "outputs": [],
   "source": [
    "np.take(df.article_text, np.squeeze(indices))"
   ]
  },
  {
   "cell_type": "code",
   "execution_count": null,
   "metadata": {
    "jupyter": {
     "source_hidden": true
    }
   },
   "outputs": [],
   "source": [
    "from numpy import dot\n",
    "from numpy.linalg import norm\n",
    "\n",
    "cos_sim = dot(doc.vector, doc1.vector)/(norm(doc.vector)*norm(doc1.vector))\n",
    "cos_sim\n",
    "\n",
    "glove_comments = np.asarray(doc.vector)\n",
    "glove_comments.shape\n",
    "nlp.add_pipe(nlp.create_pipe(\"sentencizer\"))\n",
    "text = \"\"\"When learning data science, you shouldn't get discouraged!\n",
    "Challenges and setbacks aren't failures, they're just part of the journey. You've got this!\"\"\"\n",
    "doc2 = nlp(text)\n",
    "# create list of sentence tokens\n",
    "sents_list = []\n",
    "for sent in doc2.sents:\n",
    "    sents_list.append(sent.text)\n",
    "print(sents_list)\n",
    "\n",
    "def get_embeddings(vocab):\n",
    "    return vocab.vectors.data"
   ]
  },
  {
   "cell_type": "code",
   "execution_count": null,
   "metadata": {},
   "outputs": [],
   "source": []
  },
  {
   "cell_type": "code",
   "execution_count": null,
   "metadata": {},
   "outputs": [],
   "source": []
  },
  {
   "cell_type": "code",
   "execution_count": null,
   "metadata": {},
   "outputs": [],
   "source": []
  },
  {
   "cell_type": "code",
   "execution_count": null,
   "metadata": {},
   "outputs": [],
   "source": []
  },
  {
   "cell_type": "code",
   "execution_count": null,
   "metadata": {},
   "outputs": [],
   "source": []
  },
  {
   "cell_type": "code",
   "execution_count": null,
   "metadata": {},
   "outputs": [],
   "source": []
  },
  {
   "cell_type": "code",
   "execution_count": null,
   "metadata": {},
   "outputs": [],
   "source": []
  },
  {
   "cell_type": "code",
   "execution_count": null,
   "metadata": {},
   "outputs": [],
   "source": []
  },
  {
   "cell_type": "code",
   "execution_count": null,
   "metadata": {},
   "outputs": [],
   "source": []
  },
  {
   "cell_type": "code",
   "execution_count": null,
   "metadata": {},
   "outputs": [],
   "source": []
  },
  {
   "cell_type": "code",
   "execution_count": null,
   "metadata": {},
   "outputs": [],
   "source": []
  },
  {
   "cell_type": "code",
   "execution_count": null,
   "metadata": {},
   "outputs": [],
   "source": []
  },
  {
   "cell_type": "code",
   "execution_count": null,
   "metadata": {},
   "outputs": [],
   "source": []
  },
  {
   "cell_type": "code",
   "execution_count": null,
   "metadata": {},
   "outputs": [],
   "source": []
  },
  {
   "cell_type": "code",
   "execution_count": null,
   "metadata": {},
   "outputs": [],
   "source": []
  },
  {
   "cell_type": "code",
   "execution_count": null,
   "metadata": {},
   "outputs": [],
   "source": []
  },
  {
   "cell_type": "code",
   "execution_count": null,
   "metadata": {},
   "outputs": [],
   "source": []
  },
  {
   "cell_type": "code",
   "execution_count": null,
   "metadata": {},
   "outputs": [],
   "source": []
  },
  {
   "cell_type": "code",
   "execution_count": null,
   "metadata": {},
   "outputs": [],
   "source": []
  },
  {
   "cell_type": "code",
   "execution_count": null,
   "metadata": {},
   "outputs": [],
   "source": []
  },
  {
   "cell_type": "code",
   "execution_count": null,
   "metadata": {},
   "outputs": [],
   "source": []
  },
  {
   "cell_type": "code",
   "execution_count": null,
   "metadata": {},
   "outputs": [],
   "source": []
  },
  {
   "cell_type": "code",
   "execution_count": null,
   "metadata": {},
   "outputs": [],
   "source": []
  },
  {
   "cell_type": "code",
   "execution_count": null,
   "metadata": {},
   "outputs": [],
   "source": []
  },
  {
   "cell_type": "code",
   "execution_count": null,
   "metadata": {},
   "outputs": [],
   "source": []
  },
  {
   "cell_type": "code",
   "execution_count": null,
   "metadata": {},
   "outputs": [],
   "source": []
  },
  {
   "cell_type": "code",
   "execution_count": null,
   "metadata": {},
   "outputs": [],
   "source": []
  },
  {
   "cell_type": "code",
   "execution_count": null,
   "metadata": {},
   "outputs": [],
   "source": []
  },
  {
   "cell_type": "code",
   "execution_count": null,
   "metadata": {},
   "outputs": [],
   "source": []
  },
  {
   "cell_type": "code",
   "execution_count": null,
   "metadata": {},
   "outputs": [],
   "source": []
  },
  {
   "cell_type": "code",
   "execution_count": null,
   "metadata": {},
   "outputs": [],
   "source": []
  },
  {
   "cell_type": "code",
   "execution_count": null,
   "metadata": {},
   "outputs": [],
   "source": []
  }
 ],
 "metadata": {
  "kernelspec": {
   "display_name": "dssg",
   "language": "python",
   "name": "dssg"
  },
  "language_info": {
   "codemirror_mode": {
    "name": "ipython",
    "version": 3
   },
   "file_extension": ".py",
   "mimetype": "text/x-python",
   "name": "python",
   "nbconvert_exporter": "python",
   "pygments_lexer": "ipython3",
   "version": "3.7.7"
  }
 },
 "nbformat": 4,
 "nbformat_minor": 4
}
