{
 "cells": [
  {
   "cell_type": "code",
   "execution_count": 90,
   "metadata": {},
   "outputs": [
    {
     "data": {
      "text/html": [
       "<div>\n",
       "<style scoped>\n",
       "    .dataframe tbody tr th:only-of-type {\n",
       "        vertical-align: middle;\n",
       "    }\n",
       "\n",
       "    .dataframe tbody tr th {\n",
       "        vertical-align: top;\n",
       "    }\n",
       "\n",
       "    .dataframe thead th {\n",
       "        text-align: right;\n",
       "    }\n",
       "</style>\n",
       "<table border=\"1\" class=\"dataframe\">\n",
       "  <thead>\n",
       "    <tr style=\"text-align: right;\">\n",
       "      <th></th>\n",
       "      <th>article_pk</th>\n",
       "      <th>domain_pk</th>\n",
       "      <th>domain_name</th>\n",
       "      <th>article_url</th>\n",
       "      <th>label</th>\n",
       "      <th>article_headline</th>\n",
       "      <th>article_text</th>\n",
       "    </tr>\n",
       "  </thead>\n",
       "  <tbody>\n",
       "    <tr>\n",
       "      <th>0</th>\n",
       "      <td>46858240</td>\n",
       "      <td>3922</td>\n",
       "      <td>westernjournal.com</td>\n",
       "      <td>https://www.westernjournal.com/first-four-fact...</td>\n",
       "      <td>1</td>\n",
       "      <td>Gretchen Whitmer: First Four Facts You Need To...</td>\n",
       "      <td>Democratic Gov. Gretchen Whitmer has made quit...</td>\n",
       "    </tr>\n",
       "    <tr>\n",
       "      <th>1</th>\n",
       "      <td>38076419</td>\n",
       "      <td>51</td>\n",
       "      <td>aanirfan.blogspot.co.uk</td>\n",
       "      <td>http://aanirfan.blogspot.com/2020/05/randolph-...</td>\n",
       "      <td>1</td>\n",
       "      <td>NaN</td>\n",
       "      <td>Aangirfan\\nFriday, 1 May 2020\\nRANDOLPH STEWAR...</td>\n",
       "    </tr>\n",
       "    <tr>\n",
       "      <th>2</th>\n",
       "      <td>36831236</td>\n",
       "      <td>4034</td>\n",
       "      <td>centerforsecuritypolicy.org</td>\n",
       "      <td>https://www.centerforsecuritypolicy.org/2020/0...</td>\n",
       "      <td>1</td>\n",
       "      <td>Rewarding the CCP for its pandemic MUST NOT HA...</td>\n",
       "      <td>Senator Tom Cotton believes the Chinese Commun...</td>\n",
       "    </tr>\n",
       "    <tr>\n",
       "      <th>3</th>\n",
       "      <td>47480838</td>\n",
       "      <td>3851</td>\n",
       "      <td>thenewamerican.com</td>\n",
       "      <td>http://www.thenewamerican.com/culture/faith-an...</td>\n",
       "      <td>1</td>\n",
       "      <td>Catholic Bishops: COVID-19 Measures Are “Prelu...</td>\n",
       "      <td>A document titled “Appeal for the Church and t...</td>\n",
       "    </tr>\n",
       "    <tr>\n",
       "      <th>4</th>\n",
       "      <td>50200584</td>\n",
       "      <td>460</td>\n",
       "      <td>prisonplanet.com</td>\n",
       "      <td>https://www.prisonplanet.com/?p=320847</td>\n",
       "      <td>1</td>\n",
       "      <td>Coronavirus ‘Cover-Up’ Is China’s Chernobyl: W...</td>\n",
       "      <td>“It was a cover-up. And we’ll get to the botto...</td>\n",
       "    </tr>\n",
       "  </tbody>\n",
       "</table>\n",
       "</div>"
      ],
      "text/plain": [
       "   article_pk  domain_pk                  domain_name  \\\n",
       "0    46858240       3922           westernjournal.com   \n",
       "1    38076419         51      aanirfan.blogspot.co.uk   \n",
       "2    36831236       4034  centerforsecuritypolicy.org   \n",
       "3    47480838       3851           thenewamerican.com   \n",
       "4    50200584        460             prisonplanet.com   \n",
       "\n",
       "                                         article_url  label  \\\n",
       "0  https://www.westernjournal.com/first-four-fact...      1   \n",
       "1  http://aanirfan.blogspot.com/2020/05/randolph-...      1   \n",
       "2  https://www.centerforsecuritypolicy.org/2020/0...      1   \n",
       "3  http://www.thenewamerican.com/culture/faith-an...      1   \n",
       "4             https://www.prisonplanet.com/?p=320847      1   \n",
       "\n",
       "                                    article_headline  \\\n",
       "0  Gretchen Whitmer: First Four Facts You Need To...   \n",
       "1                                                NaN   \n",
       "2  Rewarding the CCP for its pandemic MUST NOT HA...   \n",
       "3  Catholic Bishops: COVID-19 Measures Are “Prelu...   \n",
       "4  Coronavirus ‘Cover-Up’ Is China’s Chernobyl: W...   \n",
       "\n",
       "                                        article_text  \n",
       "0  Democratic Gov. Gretchen Whitmer has made quit...  \n",
       "1  Aangirfan\\nFriday, 1 May 2020\\nRANDOLPH STEWAR...  \n",
       "2  Senator Tom Cotton believes the Chinese Commun...  \n",
       "3  A document titled “Appeal for the Church and t...  \n",
       "4  “It was a cover-up. And we’ll get to the botto...  "
      ]
     },
     "execution_count": 90,
     "metadata": {},
     "output_type": "execute_result"
    }
   ],
   "source": [
    "import pandas as pd\n",
    "from nltk.tokenize import sent_tokenize, word_tokenize\n",
    "import csv\n",
    "\n",
    "positive_data = pd.read_csv('positive_articles.csv')\n",
    "\n",
    "\n",
    "\n",
    "positive_data.head()\n",
    "        \n"
   ]
  },
  {
   "cell_type": "code",
   "execution_count": 91,
   "metadata": {},
   "outputs": [
    {
     "name": "stdout",
     "output_type": "stream",
     "text": [
      "['0        Democratic Gov.', 'Gretchen Whitmer has made quit...\\n1        Aangirfan\\\\nFriday, 1 May 2020\\\\nRANDOLPH STEWAR...\\n2        Senator Tom Cotton believes the Chinese Commun...\\n3        A document titled “Appeal for the Church and t...\\n4        “It was a cover-up.', 'And we’ll get to the botto...\\n                               ...                        \\n12542    From Conservapedia\\\\n\\\\n2016 election results\\\\n\\\\...\\n12543    From Conservapedia\\\\n\\\\nSee also Spygate\\\\n\\\\n[1] ...\\n12544    AE.Daily: The Chinese authorities support the ...\\n12545    Censorship, Pandemic Style\\\\n\\\\nCensorship is un...\\n12546    Aarogya setu\\\\n\\\\nKey Highlights It can be downl...\\nName: article_text, Length: 12547, dtype: object']\n",
      "3\n"
     ]
    }
   ],
   "source": [
    "positive_data_str = str(positive_data.article_text)\n",
    "\n",
    "tokenized_positive = sent_tokenize(positive_data_str)\n",
    "\n",
    "print(tokenized_positive)\n",
    "\n",
    "print(len(tokenized_positive))"
   ]
  },
  {
   "cell_type": "code",
   "execution_count": null,
   "metadata": {},
   "outputs": [],
   "source": [
    "pos_data_str = str(positive_data.article_text)\n",
    "\n",
    "tokenized_pos = word_tokenize(pos_data_str)\n",
    "\n",
    "tokenized_pos = list(filter(lambda token: token not in string.punctuation, tokenized_pos))\n",
    "\n",
    "print(tokenized_pos)\n",
    "\n",
    "print(len(tokenized_pos))\n"
   ]
  },
  {
   "cell_type": "code",
   "execution_count": null,
   "metadata": {},
   "outputs": [],
   "source": [
    "from nltk.probability import FreqDist\n",
    "word_dist = FreqDist(tokenized_pos)\n",
    "print(word_dist)"
   ]
  },
  {
   "cell_type": "code",
   "execution_count": null,
   "metadata": {},
   "outputs": [],
   "source": [
    "word_dist.most_common(2)"
   ]
  },
  {
   "cell_type": "code",
   "execution_count": 93,
   "metadata": {},
   "outputs": [
    {
     "data": {
      "text/plain": [
       "['0        Democratic Gov.',\n",
       " 'Gretchen Whitmer has made quit...\\n1        Aangirfan\\\\nFriday, 1 May 2020\\\\nRANDOLPH STEWAR...\\n2        Senator Tom Cotton believes the Chinese Commun...\\n3        A document titled “Appeal for the Church and t...\\n4        “It was a cover-up.',\n",
       " 'And we’ll get to the botto...\\n                               ...                        \\n12542    From Conservapedia\\\\n\\\\n2016 election results\\\\n\\\\...\\n12543    From Conservapedia\\\\n\\\\nSee also Spygate\\\\n\\\\n[1] ...\\n12544    AE.Daily: The Chinese authorities support the ...\\n12545    Censorship, Pandemic Style\\\\n\\\\nCensorship is un...\\n12546    Aarogya setu\\\\n\\\\nKey Highlights It can be downl...\\nName: article_text, Length: 12547, dtype: object']"
      ]
     },
     "execution_count": 93,
     "metadata": {},
     "output_type": "execute_result"
    }
   ],
   "source": [
    "tokenized_positive"
   ]
  },
  {
   "cell_type": "code",
   "execution_count": 94,
   "metadata": {},
   "outputs": [
    {
     "data": {
      "text/plain": [
       "'And we’ll get to the botto...\\n                               ...                        \\n12542    From Conservapedia\\\\n\\\\n2016 election results\\\\n\\\\...\\n12543    From Conservapedia\\\\n\\\\nSee also Spygate\\\\n\\\\n[1] ...\\n12544    AE.Daily: The Chinese authorities support the ...\\n12545    Censorship, Pandemic Style\\\\n\\\\nCensorship is un...\\n12546    Aarogya setu\\\\n\\\\nKey Highlights It can be downl...\\nName: article_text, Length: 12547, dtype: object'"
      ]
     },
     "execution_count": 94,
     "metadata": {},
     "output_type": "execute_result"
    }
   ],
   "source": [
    "tokenized_positive[2]"
   ]
  },
  {
   "cell_type": "code",
   "execution_count": null,
   "metadata": {},
   "outputs": [],
   "source": []
  }
 ],
 "metadata": {
  "kernelspec": {
   "display_name": "Python 3",
   "language": "python",
   "name": "python3"
  },
  "language_info": {
   "codemirror_mode": {
    "name": "ipython",
    "version": 3
   },
   "file_extension": ".py",
   "mimetype": "text/x-python",
   "name": "python",
   "nbconvert_exporter": "python",
   "pygments_lexer": "ipython3",
   "version": "3.7.6"
  }
 },
 "nbformat": 4,
 "nbformat_minor": 4
}
